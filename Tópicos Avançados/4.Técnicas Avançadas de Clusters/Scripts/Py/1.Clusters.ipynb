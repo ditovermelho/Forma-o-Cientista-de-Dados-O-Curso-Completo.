{
 "cells": [
  {
   "cell_type": "markdown",
   "metadata": {},
   "source": [
    "# Formação Cientista de Dados II - Professor Fernando Amaral\n",
    "## Clusters: Técnicas Avançadas"
   ]
  },
  {
   "cell_type": "code",
   "execution_count": 3,
   "metadata": {
    "vscode": {
     "languageId": "powershell"
    }
   },
   "outputs": [
    {
     "name": "stdout",
     "output_type": "stream",
     "text": [
      "Collecting llvmlite==0.35.0\n",
      "  Downloading llvmlite-0.35.0.tar.gz (121 kB)\n",
      "     ---------------------------------------- 0.0/121.2 kB ? eta -:--:--\n",
      "     --- ------------------------------------ 10.2/121.2 kB ? eta -:--:--\n",
      "     ------------ ------------------------ 41.0/121.2 kB 393.8 kB/s eta 0:00:01\n",
      "     ------------ ------------------------ 41.0/121.2 kB 393.8 kB/s eta 0:00:01\n",
      "     ------------ ------------------------ 41.0/121.2 kB 393.8 kB/s eta 0:00:01\n",
      "     ------------ ------------------------ 41.0/121.2 kB 393.8 kB/s eta 0:00:01\n",
      "     ------------ ------------------------ 41.0/121.2 kB 393.8 kB/s eta 0:00:01\n",
      "     ------------ ------------------------ 41.0/121.2 kB 393.8 kB/s eta 0:00:01\n",
      "     ------------ ------------------------ 41.0/121.2 kB 393.8 kB/s eta 0:00:01\n",
      "     ------------ ------------------------ 41.0/121.2 kB 393.8 kB/s eta 0:00:01\n",
      "     ------------ ------------------------ 41.0/121.2 kB 393.8 kB/s eta 0:00:01\n",
      "     ------------ ------------------------ 41.0/121.2 kB 393.8 kB/s eta 0:00:01\n",
      "     ------------ ------------------------ 41.0/121.2 kB 393.8 kB/s eta 0:00:01\n",
      "     ------------ ------------------------ 41.0/121.2 kB 393.8 kB/s eta 0:00:01\n",
      "     ------------------------------------ 121.2/121.2 kB 177.5 kB/s eta 0:00:00\n",
      "  Preparing metadata (setup.py): started\n",
      "  Preparing metadata (setup.py): finished with status 'done'\n",
      "Building wheels for collected packages: llvmlite\n",
      "  Building wheel for llvmlite (setup.py): started\n",
      "  Building wheel for llvmlite (setup.py): finished with status 'error'\n",
      "  Running setup.py clean for llvmlite\n",
      "Failed to build llvmlite\n",
      "Note: you may need to restart the kernel to use updated packages.\n"
     ]
    },
    {
     "name": "stderr",
     "output_type": "stream",
     "text": [
      "  error: subprocess-exited-with-error\n",
      "  \n",
      "  × python setup.py bdist_wheel did not run successfully.\n",
      "  │ exit code: 1\n",
      "  ╰─> [28 lines of output]\n",
      "      running bdist_wheel\n",
      "      \"d:\\Documents\\Forma-o-Cientista-de-Dados-O-Curso-Completo\\TÃ³picos AvanÃ§ados\\venv\\Scripts\\python.exe\" C:\\Users\\DitoVermelho\\AppData\\Local\\Temp\\pip-install-c67ltgye\\llvmlite_79fdb0fcfbb543649ff01c103f6c6af8\\ffi\\build.py\n",
      "      Trying generator 'Visual Studio 15 2017 Win64'\n",
      "      Traceback (most recent call last):\n",
      "        File \"C:\\Users\\DitoVermelho\\AppData\\Local\\Temp\\pip-install-c67ltgye\\llvmlite_79fdb0fcfbb543649ff01c103f6c6af8\\ffi\\build.py\", line 191, in <module>\n",
      "          main()\n",
      "        File \"C:\\Users\\DitoVermelho\\AppData\\Local\\Temp\\pip-install-c67ltgye\\llvmlite_79fdb0fcfbb543649ff01c103f6c6af8\\ffi\\build.py\", line 179, in main\n",
      "          main_win32()\n",
      "        File \"C:\\Users\\DitoVermelho\\AppData\\Local\\Temp\\pip-install-c67ltgye\\llvmlite_79fdb0fcfbb543649ff01c103f6c6af8\\ffi\\build.py\", line 88, in main_win32\n",
      "          generator = find_win32_generator()\n",
      "                      ^^^^^^^^^^^^^^^^^^^^^^\n",
      "        File \"C:\\Users\\DitoVermelho\\AppData\\Local\\Temp\\pip-install-c67ltgye\\llvmlite_79fdb0fcfbb543649ff01c103f6c6af8\\ffi\\build.py\", line 76, in find_win32_generator\n",
      "          try_cmake(cmake_dir, build_dir, generator)\n",
      "        File \"C:\\Users\\DitoVermelho\\AppData\\Local\\Temp\\pip-install-c67ltgye\\llvmlite_79fdb0fcfbb543649ff01c103f6c6af8\\ffi\\build.py\", line 28, in try_cmake\n",
      "          subprocess.check_call(['cmake', '-G', generator, cmake_dir])\n",
      "        File \"C:\\Program Files\\WindowsApps\\PythonSoftwareFoundation.Python.3.12_3.12.752.0_x64__qbz5n2kfra8p0\\Lib\\subprocess.py\", line 408, in check_call\n",
      "          retcode = call(*popenargs, **kwargs)\n",
      "                    ^^^^^^^^^^^^^^^^^^^^^^^^^^\n",
      "        File \"C:\\Program Files\\WindowsApps\\PythonSoftwareFoundation.Python.3.12_3.12.752.0_x64__qbz5n2kfra8p0\\Lib\\subprocess.py\", line 389, in call\n",
      "          with Popen(*popenargs, **kwargs) as p:\n",
      "               ^^^^^^^^^^^^^^^^^^^^^^^^^^^\n",
      "        File \"C:\\Program Files\\WindowsApps\\PythonSoftwareFoundation.Python.3.12_3.12.752.0_x64__qbz5n2kfra8p0\\Lib\\subprocess.py\", line 1026, in __init__\n",
      "          self._execute_child(args, executable, preexec_fn, close_fds,\n",
      "        File \"C:\\Program Files\\WindowsApps\\PythonSoftwareFoundation.Python.3.12_3.12.752.0_x64__qbz5n2kfra8p0\\Lib\\subprocess.py\", line 1538, in _execute_child\n",
      "          hp, ht, pid, tid = _winapi.CreateProcess(executable, args,\n",
      "                             ^^^^^^^^^^^^^^^^^^^^^^^^^^^^^^^^^^^^^^^\n",
      "      FileNotFoundError: [WinError 2] O sistema nÃ£o pode encontrar o arquivo especificado\n",
      "      error: command 'd:\\\\Documents\\\\Forma-o-Cientista-de-Dados-O-Curso-Completo\\\\TÃ³picos AvanÃ§ados\\\\venv\\\\Scripts\\\\python.exe' failed with exit code 1\n",
      "      [end of output]\n",
      "  \n",
      "  note: This error originates from a subprocess, and is likely not a problem with pip.\n",
      "  ERROR: Failed building wheel for llvmlite\n",
      "ERROR: Could not build wheels for llvmlite, which is required to install pyproject.toml-based projects\n"
     ]
    }
   ],
   "source": [
    "pip install llvmlite"
   ]
  },
  {
   "cell_type": "code",
   "execution_count": 4,
   "metadata": {
    "vscode": {
     "languageId": "powershell"
    }
   },
   "outputs": [
    {
     "name": "stdout",
     "output_type": "stream",
     "text": [
      "Note: you may need to restart the kernel to use updated packages.\n"
     ]
    },
    {
     "name": "stderr",
     "output_type": "stream",
     "text": [
      "ERROR: Could not find a version that satisfies the requirement numba-0.54.1 (from versions: none)\n",
      "ERROR: No matching distribution found for numba-0.54.1\n"
     ]
    }
   ],
   "source": [
    "pip install numba"
   ]
  },
  {
   "cell_type": "code",
   "execution_count": 1,
   "metadata": {
    "vscode": {
     "languageId": "powershell"
    }
   },
   "outputs": [
    {
     "name": "stdout",
     "output_type": "stream",
     "text": [
      "Note: you may need to restart the kernel to use updated packages.\n"
     ]
    },
    {
     "name": "stderr",
     "output_type": "stream",
     "text": [
      "ERROR: Ignored the following versions that require a different python version: 1.7.0 Requires-Python >=3.8,<3.10; 1.7.1 Requires-Python >=3.8,<3.10; 1.8.0 Requires-Python >=3.8,<3.10; 1.8.1 Requires-Python >=3.8,<3.10; 1.8.2 Requires-Python >=3.8,<3.10\n",
      "ERROR: Could not find a version that satisfies the requirement pyclustertend==1.8.2 (from versions: 1.0.0, 1.0.1, 1.0.2, 1.1.0, 1.2.0, 1.3.0, 1.3.1, 1.3.2, 1.3.3, 1.4.0, 1.4.9, 1.5.0, 1.5.1, 1.5.2, 1.6.0, 1.6.1, 1.6.2)\n",
      "ERROR: No matching distribution found for pyclustertend==1.8.2\n"
     ]
    }
   ],
   "source": [
    "pip install pyclustertend"
   ]
  },
  {
   "cell_type": "code",
   "execution_count": 4,
   "metadata": {},
   "outputs": [
    {
     "ename": "ModuleNotFoundError",
     "evalue": "No module named 'pyclustertend'",
     "output_type": "error",
     "traceback": [
      "\u001b[1;31m---------------------------------------------------------------------------\u001b[0m",
      "\u001b[1;31mModuleNotFoundError\u001b[0m                       Traceback (most recent call last)",
      "Cell \u001b[1;32mIn[4], line 6\u001b[0m\n\u001b[0;32m      4\u001b[0m \u001b[38;5;28;01mfrom\u001b[39;00m \u001b[38;5;21;01msklearn\u001b[39;00m\u001b[38;5;21;01m.\u001b[39;00m\u001b[38;5;21;01mcluster\u001b[39;00m \u001b[38;5;28;01mimport\u001b[39;00m KMeans\n\u001b[0;32m      5\u001b[0m \u001b[38;5;28;01mfrom\u001b[39;00m \u001b[38;5;21;01msklearn\u001b[39;00m\u001b[38;5;21;01m.\u001b[39;00m\u001b[38;5;21;01mpreprocessing\u001b[39;00m \u001b[38;5;28;01mimport\u001b[39;00m scale\n\u001b[1;32m----> 6\u001b[0m \u001b[38;5;28;01mfrom\u001b[39;00m \u001b[38;5;21;01mpyclustertend\u001b[39;00m \u001b[38;5;28;01mimport\u001b[39;00m hopkins, vat,ivat, assess_tendency_by_metric, assess_tendency_by_mean_metric_score\n",
      "\u001b[1;31mModuleNotFoundError\u001b[0m: No module named 'pyclustertend'"
     ]
    }
   ],
   "source": [
    "from sklearn import datasets\n",
    "import numpy as np\n",
    "import matplotlib.pyplot as plt\n",
    "from sklearn.cluster import KMeans\n",
    "from sklearn.preprocessing import scale\n",
    "from pyclustertend import hopkins, vat,ivat, assess_tendency_by_metric, assess_tendency_by_mean_metric_score"
   ]
  },
  {
   "cell_type": "code",
   "execution_count": null,
   "metadata": {},
   "outputs": [],
   "source": [
    "#cluster com iris\n",
    "iris = datasets.load_iris()\n",
    "cluster = KMeans(n_clusters = 3)\n",
    "clus = cluster.fit_predict(iris.data)\n",
    "print(clus)"
   ]
  },
  {
   "cell_type": "code",
   "execution_count": null,
   "metadata": {},
   "outputs": [],
   "source": [
    "#impressão do cluster\n",
    "plt.title('Iris')\n",
    "plt.scatter(iris.data[:,0], iris.data[:,1], c = clus, cmap=\"rainbow\")\n",
    "plt.show()"
   ]
  },
  {
   "cell_type": "code",
   "execution_count": null,
   "metadata": {},
   "outputs": [],
   "source": [
    "#criamos dois objetos para clusterização\n",
    "clust1 = scale(iris.data)\n",
    "#mesmas dimensões de Iris\n",
    "clust2 = np.random.rand(150,4)\n",
    "print(clust2)"
   ]
  },
  {
   "cell_type": "code",
   "execution_count": null,
   "metadata": {},
   "outputs": [],
   "source": [
    "# within-cluster sum-of-squares pode ser encontrado no atributo inertia do cluster\n",
    "inertia =[]\n",
    "for i in range(1, 8):\n",
    "    kmeans = KMeans(n_clusters = i).fit(clust1)\n",
    "    kmeans.fit(clust1)\n",
    "    inertia.append(kmeans.inertia_)\n",
    "plt.plot(range(1, 8), inertia)\n",
    "plt.title('Elbow')\n",
    "plt.show()"
   ]
  },
  {
   "cell_type": "code",
   "execution_count": null,
   "metadata": {},
   "outputs": [],
   "source": [
    "#caapcidade de cluster\n",
    "#mais proximo de zero maior capacidade\n",
    "hopkins(clust1,150)"
   ]
  },
  {
   "cell_type": "code",
   "execution_count": null,
   "metadata": {},
   "outputs": [],
   "source": [
    "hopkins(clust2,150)"
   ]
  },
  {
   "cell_type": "code",
   "execution_count": null,
   "metadata": {},
   "outputs": [],
   "source": [
    "#Visual assesement of tendency\n",
    "vat(clust1)"
   ]
  },
  {
   "cell_type": "code",
   "execution_count": null,
   "metadata": {},
   "outputs": [],
   "source": [
    "vat(clust2)"
   ]
  },
  {
   "cell_type": "code",
   "execution_count": null,
   "metadata": {},
   "outputs": [],
   "source": [
    "#outra versão\n",
    "ivat(clust1)  "
   ]
  },
  {
   "cell_type": "code",
   "execution_count": null,
   "metadata": {},
   "outputs": [],
   "source": [
    "ivat(clust2)  "
   ]
  },
  {
   "cell_type": "code",
   "execution_count": null,
   "metadata": {},
   "outputs": [],
   "source": [
    "# avalia a qualidade dos dados \n",
    "#métodos  'silhouette', 'calinski_harabasz', 'davies_bouldin'    \n",
    "#dados, método, número máximo de clusters\n",
    "#retona o número ideial de cluster a valor de silhouette para cada um\n",
    "#silhouette busca minimizar\n",
    "m = assess_tendency_by_metric(clust1,'silhouette',5 )\n",
    "print(m)"
   ]
  },
  {
   "cell_type": "code",
   "execution_count": null,
   "metadata": {},
   "outputs": [],
   "source": [
    "m = assess_tendency_by_metric(clust2,'silhouette',5 )\n",
    "print(m)"
   ]
  },
  {
   "cell_type": "code",
   "execution_count": null,
   "metadata": {},
   "outputs": [],
   "source": [
    "#retorna o número médio do melhor número de clusters dos três métodos\n",
    "m = assess_tendency_by_mean_metric_score(clust1,5 )\n",
    "print(m)"
   ]
  },
  {
   "cell_type": "code",
   "execution_count": null,
   "metadata": {},
   "outputs": [],
   "source": [
    "m = assess_tendency_by_mean_metric_score(clust2,5 )\n",
    "print(m)\n"
   ]
  }
 ],
 "metadata": {
  "kernelspec": {
   "display_name": "Python 3",
   "language": "python",
   "name": "python3"
  },
  "language_info": {
   "codemirror_mode": {
    "name": "ipython",
    "version": 3
   },
   "file_extension": ".py",
   "mimetype": "text/x-python",
   "name": "python",
   "nbconvert_exporter": "python",
   "pygments_lexer": "ipython3",
   "version": "3.12.2"
  }
 },
 "nbformat": 4,
 "nbformat_minor": 4
}
