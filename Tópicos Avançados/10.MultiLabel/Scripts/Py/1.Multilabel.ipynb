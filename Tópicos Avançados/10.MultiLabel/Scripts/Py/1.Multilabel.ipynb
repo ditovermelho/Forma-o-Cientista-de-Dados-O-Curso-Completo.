{
 "cells": [
  {
   "cell_type": "markdown",
   "metadata": {},
   "source": [
    "# Formação Cientista de Dados II - Professor Fernando Amaral\n",
    "## Knn e Hierarquical ARAM NN"
   ]
  },
  {
   "cell_type": "code",
   "execution_count": 17,
   "metadata": {
    "vscode": {
     "languageId": "powershell"
    }
   },
   "outputs": [
    {
     "name": "stdout",
     "output_type": "stream",
     "text": [
      "Requirement already satisfied: scikit-multilearn in d:\\documents\\forma-o-cientista-de-dados-o-curso-completo\\tópicos avançados\\venv\\lib\\site-packages (0.2.0)Note: you may need to restart the kernel to use updated packages.\n",
      "\n"
     ]
    }
   ],
   "source": [
    "pip install scikit-multilearn"
   ]
  },
  {
   "cell_type": "code",
   "execution_count": 1,
   "metadata": {},
   "outputs": [],
   "source": [
    "# algoritmos adaptados\n",
    "from skmultilearn.adapt import MLkNN, MLARAM\n",
    "#transformação de problemas\n",
    "from skmultilearn.problem_transform import BinaryRelevance, ClassifierChain, LabelPowerset\n",
    "from sklearn.svm import SVC\n",
    "from sklearn.model_selection import train_test_split\n",
    "from sklearn.metrics import hamming_loss\n",
    "import pandas as pd"
   ]
  },
  {
   "cell_type": "code",
   "execution_count": 2,
   "metadata": {},
   "outputs": [
    {
     "data": {
      "text/plain": [
       "(592, 77)"
      ]
     },
     "execution_count": 2,
     "metadata": {},
     "output_type": "execute_result"
    }
   ],
   "source": [
    "musica = pd.read_csv('../../Dados/Musica.csv', sep=\",\")\n",
    "musica.shape"
   ]
  },
  {
   "cell_type": "code",
   "execution_count": 3,
   "metadata": {},
   "outputs": [
    {
     "data": {
      "text/html": [
       "<div>\n",
       "<style scoped>\n",
       "    .dataframe tbody tr th:only-of-type {\n",
       "        vertical-align: middle;\n",
       "    }\n",
       "\n",
       "    .dataframe tbody tr th {\n",
       "        vertical-align: top;\n",
       "    }\n",
       "\n",
       "    .dataframe thead th {\n",
       "        text-align: right;\n",
       "    }\n",
       "</style>\n",
       "<table border=\"1\" class=\"dataframe\">\n",
       "  <thead>\n",
       "    <tr style=\"text-align: right;\">\n",
       "      <th></th>\n",
       "      <th>amazed-suprised</th>\n",
       "      <th>happy-pleased</th>\n",
       "      <th>relaxing-clam</th>\n",
       "      <th>quiet-still</th>\n",
       "      <th>sad-lonely</th>\n",
       "      <th>angry-aggresive</th>\n",
       "      <th>Mean_Acc1298_Mean_Mem40_Centroid</th>\n",
       "      <th>Mean_Acc1298_Mean_Mem40_Rolloff</th>\n",
       "      <th>Mean_Acc1298_Mean_Mem40_Flux</th>\n",
       "      <th>Mean_Acc1298_Mean_Mem40_MFCC_0</th>\n",
       "      <th>...</th>\n",
       "      <th>Std_Acc1298_Std_Mem40_MFCC_10</th>\n",
       "      <th>Std_Acc1298_Std_Mem40_MFCC_11</th>\n",
       "      <th>Std_Acc1298_Std_Mem40_MFCC_12</th>\n",
       "      <th>BH_LowPeakAmp</th>\n",
       "      <th>BH_LowPeakBPM</th>\n",
       "      <th>BH_HighPeakAmp</th>\n",
       "      <th>BH_HighPeakBPM</th>\n",
       "      <th>BHSUM1</th>\n",
       "      <th>BHSUM2</th>\n",
       "      <th>BHSUM3</th>\n",
       "    </tr>\n",
       "  </thead>\n",
       "  <tbody>\n",
       "    <tr>\n",
       "      <th>0</th>\n",
       "      <td>0</td>\n",
       "      <td>1</td>\n",
       "      <td>1</td>\n",
       "      <td>0</td>\n",
       "      <td>0</td>\n",
       "      <td>0</td>\n",
       "      <td>0.132498</td>\n",
       "      <td>0.077848</td>\n",
       "      <td>0.229227</td>\n",
       "      <td>0.602629</td>\n",
       "      <td>...</td>\n",
       "      <td>0.197026</td>\n",
       "      <td>0.196244</td>\n",
       "      <td>0.164323</td>\n",
       "      <td>0.030017</td>\n",
       "      <td>0.253968</td>\n",
       "      <td>0.008473</td>\n",
       "      <td>0.240602</td>\n",
       "      <td>0.136735</td>\n",
       "      <td>0.058442</td>\n",
       "      <td>0.107594</td>\n",
       "    </tr>\n",
       "    <tr>\n",
       "      <th>1</th>\n",
       "      <td>1</td>\n",
       "      <td>0</td>\n",
       "      <td>0</td>\n",
       "      <td>0</td>\n",
       "      <td>0</td>\n",
       "      <td>1</td>\n",
       "      <td>0.384281</td>\n",
       "      <td>0.355249</td>\n",
       "      <td>0.167190</td>\n",
       "      <td>0.853089</td>\n",
       "      <td>...</td>\n",
       "      <td>0.093526</td>\n",
       "      <td>0.085649</td>\n",
       "      <td>0.025101</td>\n",
       "      <td>0.182955</td>\n",
       "      <td>0.285714</td>\n",
       "      <td>0.156764</td>\n",
       "      <td>0.270677</td>\n",
       "      <td>0.191377</td>\n",
       "      <td>0.153728</td>\n",
       "      <td>0.197951</td>\n",
       "    </tr>\n",
       "    <tr>\n",
       "      <th>2</th>\n",
       "      <td>0</td>\n",
       "      <td>1</td>\n",
       "      <td>0</td>\n",
       "      <td>0</td>\n",
       "      <td>0</td>\n",
       "      <td>1</td>\n",
       "      <td>0.541782</td>\n",
       "      <td>0.356491</td>\n",
       "      <td>0.152246</td>\n",
       "      <td>0.791142</td>\n",
       "      <td>...</td>\n",
       "      <td>0.198082</td>\n",
       "      <td>0.108067</td>\n",
       "      <td>0.140574</td>\n",
       "      <td>0.099303</td>\n",
       "      <td>0.142857</td>\n",
       "      <td>0.000000</td>\n",
       "      <td>0.593985</td>\n",
       "      <td>0.105114</td>\n",
       "      <td>0.025555</td>\n",
       "      <td>0.122965</td>\n",
       "    </tr>\n",
       "    <tr>\n",
       "      <th>3</th>\n",
       "      <td>0</td>\n",
       "      <td>0</td>\n",
       "      <td>1</td>\n",
       "      <td>0</td>\n",
       "      <td>0</td>\n",
       "      <td>0</td>\n",
       "      <td>0.174288</td>\n",
       "      <td>0.243935</td>\n",
       "      <td>0.254326</td>\n",
       "      <td>0.438987</td>\n",
       "      <td>...</td>\n",
       "      <td>0.235793</td>\n",
       "      <td>0.220195</td>\n",
       "      <td>0.235834</td>\n",
       "      <td>0.024988</td>\n",
       "      <td>0.222222</td>\n",
       "      <td>0.117169</td>\n",
       "      <td>0.210526</td>\n",
       "      <td>0.057288</td>\n",
       "      <td>0.134575</td>\n",
       "      <td>0.091509</td>\n",
       "    </tr>\n",
       "    <tr>\n",
       "      <th>4</th>\n",
       "      <td>0</td>\n",
       "      <td>0</td>\n",
       "      <td>0</td>\n",
       "      <td>1</td>\n",
       "      <td>0</td>\n",
       "      <td>0</td>\n",
       "      <td>0.347436</td>\n",
       "      <td>0.155448</td>\n",
       "      <td>0.100047</td>\n",
       "      <td>0.126026</td>\n",
       "      <td>...</td>\n",
       "      <td>0.715683</td>\n",
       "      <td>0.573359</td>\n",
       "      <td>0.412368</td>\n",
       "      <td>0.016398</td>\n",
       "      <td>0.761905</td>\n",
       "      <td>0.081703</td>\n",
       "      <td>0.721805</td>\n",
       "      <td>0.108737</td>\n",
       "      <td>0.172882</td>\n",
       "      <td>0.189934</td>\n",
       "    </tr>\n",
       "  </tbody>\n",
       "</table>\n",
       "<p>5 rows × 77 columns</p>\n",
       "</div>"
      ],
      "text/plain": [
       "   amazed-suprised  happy-pleased  relaxing-clam  quiet-still  sad-lonely  \\\n",
       "0                0              1              1            0           0   \n",
       "1                1              0              0            0           0   \n",
       "2                0              1              0            0           0   \n",
       "3                0              0              1            0           0   \n",
       "4                0              0              0            1           0   \n",
       "\n",
       "   angry-aggresive  Mean_Acc1298_Mean_Mem40_Centroid  \\\n",
       "0                0                          0.132498   \n",
       "1                1                          0.384281   \n",
       "2                1                          0.541782   \n",
       "3                0                          0.174288   \n",
       "4                0                          0.347436   \n",
       "\n",
       "   Mean_Acc1298_Mean_Mem40_Rolloff  Mean_Acc1298_Mean_Mem40_Flux  \\\n",
       "0                         0.077848                      0.229227   \n",
       "1                         0.355249                      0.167190   \n",
       "2                         0.356491                      0.152246   \n",
       "3                         0.243935                      0.254326   \n",
       "4                         0.155448                      0.100047   \n",
       "\n",
       "   Mean_Acc1298_Mean_Mem40_MFCC_0  ...  Std_Acc1298_Std_Mem40_MFCC_10  \\\n",
       "0                        0.602629  ...                       0.197026   \n",
       "1                        0.853089  ...                       0.093526   \n",
       "2                        0.791142  ...                       0.198082   \n",
       "3                        0.438987  ...                       0.235793   \n",
       "4                        0.126026  ...                       0.715683   \n",
       "\n",
       "   Std_Acc1298_Std_Mem40_MFCC_11  Std_Acc1298_Std_Mem40_MFCC_12  \\\n",
       "0                       0.196244                       0.164323   \n",
       "1                       0.085649                       0.025101   \n",
       "2                       0.108067                       0.140574   \n",
       "3                       0.220195                       0.235834   \n",
       "4                       0.573359                       0.412368   \n",
       "\n",
       "   BH_LowPeakAmp  BH_LowPeakBPM  BH_HighPeakAmp  BH_HighPeakBPM    BHSUM1  \\\n",
       "0       0.030017       0.253968        0.008473        0.240602  0.136735   \n",
       "1       0.182955       0.285714        0.156764        0.270677  0.191377   \n",
       "2       0.099303       0.142857        0.000000        0.593985  0.105114   \n",
       "3       0.024988       0.222222        0.117169        0.210526  0.057288   \n",
       "4       0.016398       0.761905        0.081703        0.721805  0.108737   \n",
       "\n",
       "     BHSUM2    BHSUM3  \n",
       "0  0.058442  0.107594  \n",
       "1  0.153728  0.197951  \n",
       "2  0.025555  0.122965  \n",
       "3  0.134575  0.091509  \n",
       "4  0.172882  0.189934  \n",
       "\n",
       "[5 rows x 77 columns]"
      ]
     },
     "execution_count": 3,
     "metadata": {},
     "output_type": "execute_result"
    }
   ],
   "source": [
    "musica.head()"
   ]
  },
  {
   "cell_type": "code",
   "execution_count": 4,
   "metadata": {},
   "outputs": [
    {
     "data": {
      "text/plain": [
       "array([[0, 1, 1, 0, 0, 0],\n",
       "       [1, 0, 0, 0, 0, 1],\n",
       "       [0, 1, 0, 0, 0, 1],\n",
       "       ...,\n",
       "       [0, 0, 1, 1, 1, 0],\n",
       "       [0, 1, 1, 0, 0, 0],\n",
       "       [0, 1, 0, 0, 0, 0]], dtype=int64)"
      ]
     },
     "execution_count": 4,
     "metadata": {},
     "output_type": "execute_result"
    }
   ],
   "source": [
    "#separação da classe e previsores\n",
    "classe = musica.iloc[:,0:6].values\n",
    "previsores = musica.iloc[:,7:78].values\n",
    "classe"
   ]
  },
  {
   "cell_type": "code",
   "execution_count": 5,
   "metadata": {},
   "outputs": [],
   "source": [
    "#divisão de treino e teste\n",
    "X_treinamento, X_teste, y_treinamento, y_teste = train_test_split(previsores,classe,test_size = 0.3,\n",
    "                                                                  random_state = 0)"
   ]
  },
  {
   "cell_type": "code",
   "execution_count": 8,
   "metadata": {},
   "outputs": [
    {
     "ename": "TypeError",
     "evalue": "NearestNeighbors.__init__() takes 1 positional argument but 2 were given",
     "output_type": "error",
     "traceback": [
      "\u001b[1;31m---------------------------------------------------------------------------\u001b[0m",
      "\u001b[1;31mTypeError\u001b[0m                                 Traceback (most recent call last)",
      "Cell \u001b[1;32mIn[8], line 4\u001b[0m\n\u001b[0;32m      1\u001b[0m \u001b[38;5;66;03m#adaptado\u001b[39;00m\n\u001b[0;32m      2\u001b[0m \u001b[38;5;66;03m#vizinho mais próximo para ML\u001b[39;00m\n\u001b[0;32m      3\u001b[0m vmp \u001b[38;5;241m=\u001b[39m MLkNN(k\u001b[38;5;241m=\u001b[39m\u001b[38;5;241m3\u001b[39m) \n\u001b[1;32m----> 4\u001b[0m \u001b[43mvmp\u001b[49m\u001b[38;5;241;43m.\u001b[39;49m\u001b[43mfit\u001b[49m\u001b[43m(\u001b[49m\u001b[43mX_treinamento\u001b[49m\u001b[43m,\u001b[49m\u001b[43m \u001b[49m\u001b[43my_treinamento\u001b[49m\u001b[43m)\u001b[49m \n",
      "File \u001b[1;32md:\\Documents\\Forma-o-Cientista-de-Dados-O-Curso-Completo\\Tópicos Avançados\\venv\\Lib\\site-packages\\skmultilearn\\adapt\\mlknn.py:218\u001b[0m, in \u001b[0;36mMLkNN.fit\u001b[1;34m(self, X, y)\u001b[0m\n\u001b[0;32m    216\u001b[0m \u001b[38;5;28mself\u001b[39m\u001b[38;5;241m.\u001b[39m_prior_prob_true, \u001b[38;5;28mself\u001b[39m\u001b[38;5;241m.\u001b[39m_prior_prob_false \u001b[38;5;241m=\u001b[39m \u001b[38;5;28mself\u001b[39m\u001b[38;5;241m.\u001b[39m_compute_prior(\u001b[38;5;28mself\u001b[39m\u001b[38;5;241m.\u001b[39m_label_cache)\n\u001b[0;32m    217\u001b[0m \u001b[38;5;66;03m# Computing the posterior probabilities\u001b[39;00m\n\u001b[1;32m--> 218\u001b[0m \u001b[38;5;28mself\u001b[39m\u001b[38;5;241m.\u001b[39m_cond_prob_true, \u001b[38;5;28mself\u001b[39m\u001b[38;5;241m.\u001b[39m_cond_prob_false \u001b[38;5;241m=\u001b[39m \u001b[38;5;28;43mself\u001b[39;49m\u001b[38;5;241;43m.\u001b[39;49m\u001b[43m_compute_cond\u001b[49m\u001b[43m(\u001b[49m\u001b[43mX\u001b[49m\u001b[43m,\u001b[49m\u001b[43m \u001b[49m\u001b[38;5;28;43mself\u001b[39;49m\u001b[38;5;241;43m.\u001b[39;49m\u001b[43m_label_cache\u001b[49m\u001b[43m)\u001b[49m\n\u001b[0;32m    219\u001b[0m \u001b[38;5;28;01mreturn\u001b[39;00m \u001b[38;5;28mself\u001b[39m\n",
      "File \u001b[1;32md:\\Documents\\Forma-o-Cientista-de-Dados-O-Curso-Completo\\Tópicos Avançados\\venv\\Lib\\site-packages\\skmultilearn\\adapt\\mlknn.py:165\u001b[0m, in \u001b[0;36mMLkNN._compute_cond\u001b[1;34m(self, X, y)\u001b[0m\n\u001b[0;32m    146\u001b[0m \u001b[38;5;28;01mdef\u001b[39;00m \u001b[38;5;21m_compute_cond\u001b[39m(\u001b[38;5;28mself\u001b[39m, X, y):\n\u001b[0;32m    147\u001b[0m \u001b[38;5;250m    \u001b[39m\u001b[38;5;124;03m\"\"\"Helper function to compute for the posterior probabilities\u001b[39;00m\n\u001b[0;32m    148\u001b[0m \n\u001b[0;32m    149\u001b[0m \u001b[38;5;124;03m    Parameters\u001b[39;00m\n\u001b[1;32m   (...)\u001b[0m\n\u001b[0;32m    162\u001b[0m \u001b[38;5;124;03m        the posterior probability given false\u001b[39;00m\n\u001b[0;32m    163\u001b[0m \u001b[38;5;124;03m    \"\"\"\u001b[39;00m\n\u001b[1;32m--> 165\u001b[0m     \u001b[38;5;28mself\u001b[39m\u001b[38;5;241m.\u001b[39mknn_ \u001b[38;5;241m=\u001b[39m \u001b[43mNearestNeighbors\u001b[49m\u001b[43m(\u001b[49m\u001b[38;5;28;43mself\u001b[39;49m\u001b[38;5;241;43m.\u001b[39;49m\u001b[43mk\u001b[49m\u001b[43m)\u001b[49m\u001b[38;5;241m.\u001b[39mfit(X)\n\u001b[0;32m    166\u001b[0m     c \u001b[38;5;241m=\u001b[39m sparse\u001b[38;5;241m.\u001b[39mlil_matrix((\u001b[38;5;28mself\u001b[39m\u001b[38;5;241m.\u001b[39m_num_labels, \u001b[38;5;28mself\u001b[39m\u001b[38;5;241m.\u001b[39mk \u001b[38;5;241m+\u001b[39m \u001b[38;5;241m1\u001b[39m), dtype\u001b[38;5;241m=\u001b[39m\u001b[38;5;124m'\u001b[39m\u001b[38;5;124mi8\u001b[39m\u001b[38;5;124m'\u001b[39m)\n\u001b[0;32m    167\u001b[0m     cn \u001b[38;5;241m=\u001b[39m sparse\u001b[38;5;241m.\u001b[39mlil_matrix((\u001b[38;5;28mself\u001b[39m\u001b[38;5;241m.\u001b[39m_num_labels, \u001b[38;5;28mself\u001b[39m\u001b[38;5;241m.\u001b[39mk \u001b[38;5;241m+\u001b[39m \u001b[38;5;241m1\u001b[39m), dtype\u001b[38;5;241m=\u001b[39m\u001b[38;5;124m'\u001b[39m\u001b[38;5;124mi8\u001b[39m\u001b[38;5;124m'\u001b[39m)\n",
      "\u001b[1;31mTypeError\u001b[0m: NearestNeighbors.__init__() takes 1 positional argument but 2 were given"
     ]
    }
   ],
   "source": [
    "#adaptado\n",
    "#vizinho mais próximo para ML\n",
    "vmp = MLkNN(k=3) \n",
    "vmp.fit(X_treinamento, y_treinamento) "
   ]
  },
  {
   "cell_type": "code",
   "execution_count": null,
   "metadata": {},
   "outputs": [
    {
     "name": "stdout",
     "output_type": "stream",
     "text": [
      "0.23782771535580524\n"
     ]
    }
   ],
   "source": [
    "#previsão com dados de teste\n",
    "previsto = vmp.predict(X_teste) \n",
    "#hamming para avaliar preformance  \n",
    "print(hamming_loss(y_teste, previsto)) "
   ]
  },
  {
   "cell_type": "code",
   "execution_count": 9,
   "metadata": {},
   "outputs": [
    {
     "ename": "AttributeError",
     "evalue": "Module 'scipy' has no attribute 'ones'",
     "output_type": "error",
     "traceback": [
      "\u001b[1;31m---------------------------------------------------------------------------\u001b[0m",
      "\u001b[1;31mKeyError\u001b[0m                                  Traceback (most recent call last)",
      "File \u001b[1;32md:\\Documents\\Forma-o-Cientista-de-Dados-O-Curso-Completo\\Tópicos Avançados\\venv\\Lib\\site-packages\\scipy\\__init__.py:150\u001b[0m, in \u001b[0;36m__getattr__\u001b[1;34m(name)\u001b[0m\n\u001b[0;32m    149\u001b[0m \u001b[38;5;28;01mtry\u001b[39;00m:\n\u001b[1;32m--> 150\u001b[0m     \u001b[38;5;28;01mreturn\u001b[39;00m \u001b[38;5;28;43mglobals\u001b[39;49m\u001b[43m(\u001b[49m\u001b[43m)\u001b[49m\u001b[43m[\u001b[49m\u001b[43mname\u001b[49m\u001b[43m]\u001b[49m\n\u001b[0;32m    151\u001b[0m \u001b[38;5;28;01mexcept\u001b[39;00m \u001b[38;5;167;01mKeyError\u001b[39;00m:\n",
      "\u001b[1;31mKeyError\u001b[0m: 'ones'",
      "\nDuring handling of the above exception, another exception occurred:\n",
      "\u001b[1;31mAttributeError\u001b[0m                            Traceback (most recent call last)",
      "Cell \u001b[1;32mIn[9], line 3\u001b[0m\n\u001b[0;32m      1\u001b[0m \u001b[38;5;66;03m#segundo classificador adaptado, Hierarquical ARAM NN\u001b[39;00m\n\u001b[0;32m      2\u001b[0m ann \u001b[38;5;241m=\u001b[39m MLARAM()\n\u001b[1;32m----> 3\u001b[0m \u001b[43mann\u001b[49m\u001b[38;5;241;43m.\u001b[39;49m\u001b[43mfit\u001b[49m\u001b[43m(\u001b[49m\u001b[43mX_treinamento\u001b[49m\u001b[43m,\u001b[49m\u001b[43m \u001b[49m\u001b[43my_treinamento\u001b[49m\u001b[43m)\u001b[49m \n",
      "File \u001b[1;32md:\\Documents\\Forma-o-Cientista-de-Dados-O-Curso-Completo\\Tópicos Avançados\\venv\\Lib\\site-packages\\skmultilearn\\adapt\\mlaram.py:170\u001b[0m, in \u001b[0;36mMLARAM.fit\u001b[1;34m(self, X, y)\u001b[0m\n\u001b[0;32m    167\u001b[0m y_0 \u001b[38;5;241m=\u001b[39m _get_label_vector(y, \u001b[38;5;241m0\u001b[39m)\n\u001b[0;32m    169\u001b[0m \u001b[38;5;28;01mif\u001b[39;00m \u001b[38;5;28mlen\u001b[39m(\u001b[38;5;28mself\u001b[39m\u001b[38;5;241m.\u001b[39mneurons) \u001b[38;5;241m==\u001b[39m \u001b[38;5;241m0\u001b[39m:\n\u001b[1;32m--> 170\u001b[0m     neuron_vc \u001b[38;5;241m=\u001b[39m \u001b[43m_concatenate_with_negation\u001b[49m\u001b[43m(\u001b[49m\u001b[43mX\u001b[49m\u001b[43m[\u001b[49m\u001b[38;5;241;43m0\u001b[39;49m\u001b[43m]\u001b[49m\u001b[43m)\u001b[49m\n\u001b[0;32m    171\u001b[0m     \u001b[38;5;28mself\u001b[39m\u001b[38;5;241m.\u001b[39mneurons\u001b[38;5;241m.\u001b[39mappend(Neuron(neuron_vc, y_0))\n\u001b[0;32m    172\u001b[0m     start_index \u001b[38;5;241m=\u001b[39m \u001b[38;5;241m1\u001b[39m\n",
      "File \u001b[1;32md:\\Documents\\Forma-o-Cientista-de-Dados-O-Curso-Completo\\Tópicos Avançados\\venv\\Lib\\site-packages\\skmultilearn\\adapt\\mlaram.py:40\u001b[0m, in \u001b[0;36m_concatenate_with_negation\u001b[1;34m(row)\u001b[0m\n\u001b[0;32m     39\u001b[0m \u001b[38;5;28;01mdef\u001b[39;00m \u001b[38;5;21m_concatenate_with_negation\u001b[39m(row):\n\u001b[1;32m---> 40\u001b[0m     ones \u001b[38;5;241m=\u001b[39m \u001b[43mscipy\u001b[49m\u001b[38;5;241;43m.\u001b[39;49m\u001b[43mones\u001b[49m(row\u001b[38;5;241m.\u001b[39mshape)\n\u001b[0;32m     41\u001b[0m     \u001b[38;5;28;01mif\u001b[39;00m issparse(row):\n\u001b[0;32m     42\u001b[0m         \u001b[38;5;28;01mreturn\u001b[39;00m scipy\u001b[38;5;241m.\u001b[39msparse\u001b[38;5;241m.\u001b[39mhstack((row, ones \u001b[38;5;241m-\u001b[39m row))\n",
      "File \u001b[1;32md:\\Documents\\Forma-o-Cientista-de-Dados-O-Curso-Completo\\Tópicos Avançados\\venv\\Lib\\site-packages\\scipy\\__init__.py:152\u001b[0m, in \u001b[0;36m__getattr__\u001b[1;34m(name)\u001b[0m\n\u001b[0;32m    150\u001b[0m     \u001b[38;5;28;01mreturn\u001b[39;00m \u001b[38;5;28mglobals\u001b[39m()[name]\n\u001b[0;32m    151\u001b[0m \u001b[38;5;28;01mexcept\u001b[39;00m \u001b[38;5;167;01mKeyError\u001b[39;00m:\n\u001b[1;32m--> 152\u001b[0m     \u001b[38;5;28;01mraise\u001b[39;00m \u001b[38;5;167;01mAttributeError\u001b[39;00m(\n\u001b[0;32m    153\u001b[0m         \u001b[38;5;124mf\u001b[39m\u001b[38;5;124m\"\u001b[39m\u001b[38;5;124mModule \u001b[39m\u001b[38;5;124m'\u001b[39m\u001b[38;5;124mscipy\u001b[39m\u001b[38;5;124m'\u001b[39m\u001b[38;5;124m has no attribute \u001b[39m\u001b[38;5;124m'\u001b[39m\u001b[38;5;132;01m{\u001b[39;00mname\u001b[38;5;132;01m}\u001b[39;00m\u001b[38;5;124m'\u001b[39m\u001b[38;5;124m\"\u001b[39m\n\u001b[0;32m    154\u001b[0m     )\n",
      "\u001b[1;31mAttributeError\u001b[0m: Module 'scipy' has no attribute 'ones'"
     ]
    }
   ],
   "source": [
    "#segundo classificador adaptado, Hierarquical ARAM NN\n",
    "ann = MLARAM()\n",
    "ann.fit(X_treinamento, y_treinamento) "
   ]
  },
  {
   "cell_type": "code",
   "execution_count": null,
   "metadata": {},
   "outputs": [
    {
     "name": "stdout",
     "output_type": "stream",
     "text": [
      "0.24812734082397003\n"
     ]
    }
   ],
   "source": [
    "#previsão com dados de teste\n",
    "previsto = ann.predict(X_teste) \n",
    "#hamming para avaliar preformance  \n",
    "print(hamming_loss(y_teste, previsto)) "
   ]
  },
  {
   "cell_type": "code",
   "execution_count": null,
   "metadata": {},
   "outputs": [
    {
     "name": "stdout",
     "output_type": "stream",
     "text": [
      "0.199438202247191\n"
     ]
    }
   ],
   "source": [
    "#transformação de problema\n",
    "#binary relevance\n",
    "binary = BinaryRelevance(classifier = SVC())\n",
    "binary.fit(X_treinamento, y_treinamento)\n",
    "previsao = binary.predict(X_teste)\n",
    "print(hamming_loss(y_teste, previsao))"
   ]
  },
  {
   "cell_type": "code",
   "execution_count": null,
   "metadata": {},
   "outputs": [
    {
     "name": "stdout",
     "output_type": "stream",
     "text": [
      "0.2340823970037453\n"
     ]
    }
   ],
   "source": [
    "#transformação de problema\n",
    "#ClassifierChain\n",
    "chain = ClassifierChain(classifier = SVC())\n",
    "chain.fit(X_treinamento, y_treinamento)\n",
    "previsoes = chain.predict(X_teste)\n",
    "print(hamming_loss(y_teste,previsoes))"
   ]
  },
  {
   "cell_type": "code",
   "execution_count": null,
   "metadata": {},
   "outputs": [
    {
     "name": "stdout",
     "output_type": "stream",
     "text": [
      "0.2209737827715356\n"
     ]
    }
   ],
   "source": [
    "#transformação de problema\n",
    "#labelpowerset\n",
    "label = LabelPowerset(classifier = SVC())\n",
    "label.fit(X_treinamento, y_treinamento)\n",
    "previsoes = label.predict(X_teste)\n",
    "print(hamming_loss(y_teste,previsoes))"
   ]
  }
 ],
 "metadata": {
  "kernelspec": {
   "display_name": "Python 3",
   "language": "python",
   "name": "python3"
  },
  "language_info": {
   "codemirror_mode": {
    "name": "ipython",
    "version": 3
   },
   "file_extension": ".py",
   "mimetype": "text/x-python",
   "name": "python",
   "nbconvert_exporter": "python",
   "pygments_lexer": "ipython3",
   "version": "3.12.2"
  }
 },
 "nbformat": 4,
 "nbformat_minor": 4
}
