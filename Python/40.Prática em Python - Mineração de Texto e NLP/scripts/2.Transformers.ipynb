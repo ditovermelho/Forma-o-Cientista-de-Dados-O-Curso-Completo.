{
 "cells": [
  {
   "attachments": {},
   "cell_type": "markdown",
   "metadata": {},
   "source": [
    "# Formação Cientista de Dados # Prof. Fernando Amaral"
   ]
  },
  {
   "cell_type": "code",
   "execution_count": 1,
   "metadata": {
    "id": "bDDlAm3ztp3T",
    "vscode": {
     "languageId": "powershell"
    }
   },
   "outputs": [
    {
     "name": "stdout",
     "output_type": "stream",
     "text": [
      "Collecting transformers\n",
      "  Downloading transformers-4.30.2-py3-none-any.whl (7.2 MB)\n",
      "                                              0.0/7.2 MB ? eta -:--:--\n",
      "                                              0.1/7.2 MB 2.0 MB/s eta 0:00:04\n",
      "                                              0.1/7.2 MB 1.7 MB/s eta 0:00:05\n",
      "                                              0.2/7.2 MB 1.3 MB/s eta 0:00:06\n",
      "     -                                        0.2/7.2 MB 1.4 MB/s eta 0:00:06\n",
      "     -                                        0.3/7.2 MB 1.3 MB/s eta 0:00:06\n",
      "     --                                       0.5/7.2 MB 1.6 MB/s eta 0:00:05\n",
      "     ---                                      0.7/7.2 MB 2.0 MB/s eta 0:00:04\n",
      "     ----                                     0.9/7.2 MB 2.3 MB/s eta 0:00:03\n",
      "     ------                                   1.1/7.2 MB 2.6 MB/s eta 0:00:03\n",
      "     -------                                  1.3/7.2 MB 3.0 MB/s eta 0:00:02\n",
      "     --------                                 1.6/7.2 MB 3.1 MB/s eta 0:00:02\n",
      "     ---------                                1.6/7.2 MB 3.1 MB/s eta 0:00:02\n",
      "     -----------                              2.0/7.2 MB 3.3 MB/s eta 0:00:02\n",
      "     ------------                             2.2/7.2 MB 3.5 MB/s eta 0:00:02\n",
      "     ------------                             2.3/7.2 MB 3.4 MB/s eta 0:00:02\n",
      "     -------------                            2.4/7.2 MB 3.3 MB/s eta 0:00:02\n",
      "     --------------                           2.5/7.2 MB 3.2 MB/s eta 0:00:02\n",
      "     ---------------                          2.7/7.2 MB 3.2 MB/s eta 0:00:02\n",
      "     ----------------                         3.0/7.2 MB 3.4 MB/s eta 0:00:02\n",
      "     -----------------                        3.2/7.2 MB 3.5 MB/s eta 0:00:02\n",
      "     -------------------                      3.5/7.2 MB 3.5 MB/s eta 0:00:02\n",
      "     --------------------                     3.7/7.2 MB 3.5 MB/s eta 0:00:01\n",
      "     ---------------------                    3.9/7.2 MB 3.6 MB/s eta 0:00:01\n",
      "     -----------------------                  4.2/7.2 MB 3.7 MB/s eta 0:00:01\n",
      "     ------------------------                 4.3/7.2 MB 3.7 MB/s eta 0:00:01\n",
      "     -------------------------                4.5/7.2 MB 3.7 MB/s eta 0:00:01\n",
      "     --------------------------               4.8/7.2 MB 3.8 MB/s eta 0:00:01\n",
      "     ---------------------------              5.0/7.2 MB 3.8 MB/s eta 0:00:01\n",
      "     -----------------------------            5.2/7.2 MB 3.8 MB/s eta 0:00:01\n",
      "     ------------------------------           5.5/7.2 MB 3.9 MB/s eta 0:00:01\n",
      "     --------------------------------         5.8/7.2 MB 4.0 MB/s eta 0:00:01\n",
      "     ---------------------------------        6.0/7.2 MB 4.0 MB/s eta 0:00:01\n",
      "     ----------------------------------       6.3/7.2 MB 4.0 MB/s eta 0:00:01\n",
      "     ------------------------------------     6.5/7.2 MB 4.0 MB/s eta 0:00:01\n",
      "     -------------------------------------    6.7/7.2 MB 4.0 MB/s eta 0:00:01\n",
      "     ---------------------------------------  7.2/7.2 MB 4.1 MB/s eta 0:00:01\n",
      "     ---------------------------------------- 7.2/7.2 MB 4.0 MB/s eta 0:00:00\n",
      "Collecting filelock (from transformers)\n",
      "  Downloading filelock-3.12.2-py3-none-any.whl (10 kB)\n",
      "Collecting huggingface-hub<1.0,>=0.14.1 (from transformers)\n",
      "  Downloading huggingface_hub-0.16.4-py3-none-any.whl (268 kB)\n",
      "                                              0.0/268.8 kB ? eta -:--:--\n",
      "     -------------------------------------- 268.8/268.8 kB 8.1 MB/s eta 0:00:00\n",
      "Requirement already satisfied: numpy>=1.17 in d:\\carlos daniel\\documents\\formação cientista de dados o curso completo\\python\\venv\\lib\\site-packages (from transformers) (1.24.3)\n",
      "Requirement already satisfied: packaging>=20.0 in d:\\carlos daniel\\documents\\formação cientista de dados o curso completo\\python\\venv\\lib\\site-packages (from transformers) (23.1)\n",
      "Collecting pyyaml>=5.1 (from transformers)\n",
      "  Using cached PyYAML-6.0-cp311-cp311-win_amd64.whl (143 kB)\n",
      "Requirement already satisfied: regex!=2019.12.17 in d:\\carlos daniel\\documents\\formação cientista de dados o curso completo\\python\\venv\\lib\\site-packages (from transformers) (2023.6.3)\n",
      "Requirement already satisfied: requests in d:\\carlos daniel\\documents\\formação cientista de dados o curso completo\\python\\venv\\lib\\site-packages (from transformers) (2.31.0)\n",
      "Collecting tokenizers!=0.11.3,<0.14,>=0.11.1 (from transformers)\n",
      "  Downloading tokenizers-0.13.3-cp311-cp311-win_amd64.whl (3.5 MB)\n",
      "                                              0.0/3.5 MB ? eta -:--:--\n",
      "     ----                                     0.4/3.5 MB 7.8 MB/s eta 0:00:01\n",
      "     ------                                   0.6/3.5 MB 6.1 MB/s eta 0:00:01\n",
      "     ---------                                0.9/3.5 MB 6.1 MB/s eta 0:00:01\n",
      "     -------------                            1.2/3.5 MB 6.1 MB/s eta 0:00:01\n",
      "     ---------------                          1.3/3.5 MB 5.7 MB/s eta 0:00:01\n",
      "     ----------------                         1.4/3.5 MB 5.7 MB/s eta 0:00:01\n",
      "     -------------------                      1.7/3.5 MB 5.4 MB/s eta 0:00:01\n",
      "     -----------------------                  2.0/3.5 MB 5.3 MB/s eta 0:00:01\n",
      "     -------------------------                2.2/3.5 MB 5.1 MB/s eta 0:00:01\n",
      "     ---------------------------              2.3/3.5 MB 5.2 MB/s eta 0:00:01\n",
      "     ------------------------------           2.6/3.5 MB 5.1 MB/s eta 0:00:01\n",
      "     ---------------------------------        2.9/3.5 MB 5.2 MB/s eta 0:00:01\n",
      "     ----------------------------------       3.0/3.5 MB 5.0 MB/s eta 0:00:01\n",
      "     -------------------------------------    3.2/3.5 MB 5.0 MB/s eta 0:00:01\n",
      "     ---------------------------------------  3.5/3.5 MB 4.9 MB/s eta 0:00:01\n",
      "     ---------------------------------------- 3.5/3.5 MB 4.8 MB/s eta 0:00:00\n",
      "Collecting safetensors>=0.3.1 (from transformers)\n",
      "  Downloading safetensors-0.3.1-cp311-cp311-win_amd64.whl (263 kB)\n",
      "                                              0.0/263.7 kB ? eta -:--:--\n",
      "     -------------------------------------- 263.7/263.7 kB 8.2 MB/s eta 0:00:00\n",
      "Requirement already satisfied: tqdm>=4.27 in d:\\carlos daniel\\documents\\formação cientista de dados o curso completo\\python\\venv\\lib\\site-packages (from transformers) (4.65.0)\n",
      "Collecting fsspec (from huggingface-hub<1.0,>=0.14.1->transformers)\n",
      "  Downloading fsspec-2023.6.0-py3-none-any.whl (163 kB)\n",
      "                                              0.0/163.8 kB ? eta -:--:--\n",
      "     -------------------------------------- 163.8/163.8 kB 5.0 MB/s eta 0:00:00\n",
      "Requirement already satisfied: typing-extensions>=3.7.4.3 in d:\\carlos daniel\\documents\\formação cientista de dados o curso completo\\python\\venv\\lib\\site-packages (from huggingface-hub<1.0,>=0.14.1->transformers) (4.5.0)\n",
      "Requirement already satisfied: colorama in d:\\carlos daniel\\documents\\formação cientista de dados o curso completo\\python\\venv\\lib\\site-packages (from tqdm>=4.27->transformers) (0.4.6)\n",
      "Requirement already satisfied: charset-normalizer<4,>=2 in d:\\carlos daniel\\documents\\formação cientista de dados o curso completo\\python\\venv\\lib\\site-packages (from requests->transformers) (3.2.0)\n",
      "Requirement already satisfied: idna<4,>=2.5 in d:\\carlos daniel\\documents\\formação cientista de dados o curso completo\\python\\venv\\lib\\site-packages (from requests->transformers) (3.4)\n",
      "Requirement already satisfied: urllib3<3,>=1.21.1 in d:\\carlos daniel\\documents\\formação cientista de dados o curso completo\\python\\venv\\lib\\site-packages (from requests->transformers) (1.26.16)\n",
      "Requirement already satisfied: certifi>=2017.4.17 in d:\\carlos daniel\\documents\\formação cientista de dados o curso completo\\python\\venv\\lib\\site-packages (from requests->transformers) (2023.5.7)\n",
      "Installing collected packages: tokenizers, safetensors, pyyaml, fsspec, filelock, huggingface-hub, transformers\n",
      "Successfully installed filelock-3.12.2 fsspec-2023.6.0 huggingface-hub-0.16.4 pyyaml-6.0 safetensors-0.3.1 tokenizers-0.13.3 transformers-4.30.2\n",
      "Note: you may need to restart the kernel to use updated packages.\n"
     ]
    }
   ],
   "source": [
    "pip install transformers"
   ]
  },
  {
   "cell_type": "code",
   "execution_count": 1,
   "metadata": {
    "vscode": {
     "languageId": "powershell"
    }
   },
   "outputs": [
    {
     "name": "stdout",
     "output_type": "stream",
     "text": [
      "Note: you may need to restart the kernel to use updated packages.\n"
     ]
    }
   ],
   "source": [
    "pip freeze > requirements.txt"
   ]
  },
  {
   "cell_type": "code",
   "execution_count": 2,
   "metadata": {
    "id": "i_kgTxNOt-Ow"
   },
   "outputs": [
    {
     "name": "stderr",
     "output_type": "stream",
     "text": [
      "d:\\carlos daniel\\Documents\\Formação Cientista de Dados O Curso Completo\\Python\\venv\\Lib\\site-packages\\tqdm\\auto.py:21: TqdmWarning: IProgress not found. Please update jupyter and ipywidgets. See https://ipywidgets.readthedocs.io/en/stable/user_install.html\n",
      "  from .autonotebook import tqdm as notebook_tqdm\n"
     ]
    }
   ],
   "source": [
    "import transformers\n",
    "from transformers import pipeline"
   ]
  },
  {
   "cell_type": "code",
   "execution_count": 3,
   "metadata": {
    "id": "ACzD8vVjuKrq"
   },
   "outputs": [
    {
     "name": "stderr",
     "output_type": "stream",
     "text": [
      "Downloading (…)lve/main/config.json: 100%|██████████| 862/862 [00:00<?, ?B/s] \n",
      "Downloading tf_model.h5: 100%|██████████| 434M/434M [01:07<00:00, 6.41MB/s] \n",
      "All model checkpoint layers were used when initializing TFBertForQuestionAnswering.\n",
      "\n",
      "All the layers of TFBertForQuestionAnswering were initialized from the model checkpoint at pierreguillou/bert-base-cased-squad-v1.1-portuguese.\n",
      "If your task is similar to the task the model of the checkpoint was trained on, you can already use TFBertForQuestionAnswering for predictions without further training.\n",
      "Downloading (…)okenizer_config.json: 100%|██████████| 494/494 [00:00<00:00, 499kB/s]\n",
      "Downloading (…)solve/main/vocab.txt: 100%|██████████| 210k/210k [00:00<00:00, 1.62MB/s]\n",
      "Downloading (…)cial_tokens_map.json: 100%|██████████| 112/112 [00:00<00:00, 112kB/s]\n"
     ]
    }
   ],
   "source": [
    "qea = pipeline(\"question-answering\", model=\"pierreguillou/bert-base-cased-squad-v1.1-portuguese\")"
   ]
  },
  {
   "cell_type": "code",
   "execution_count": 4,
   "metadata": {
    "colab": {
     "base_uri": "https://localhost:8080/"
    },
    "id": "8cdEl6q7u88Y",
    "outputId": "06c8cdbb-0ba5-4c42-f102-237087345cbc"
   },
   "outputs": [
    {
     "name": "stdout",
     "output_type": "stream",
     "text": [
      "Pergunta:  Quantas publicações cientificas Carl Sagan tem publicado?\n",
      "Resposta:  mais de 600\n",
      "Score:  0.741589367389679\n"
     ]
    }
   ],
   "source": [
    "texto = \"Carl Sagan foi um cientista norte-americano. Sagan é autor de mais de 600 publicações científicas e também de mais de vinte livros de ciência e ficção científica.\"\n",
    "pergunta = \"Quantas publicações cientificas Carl Sagan tem publicado?\"\n",
    "resposta = qea(question=pergunta, context=texto)\n",
    "print(\"Pergunta: \", pergunta)\n",
    "print(\"Resposta: \", resposta['answer'])\n",
    "print(\"Score: \", resposta['score'])"
   ]
  }
 ],
 "metadata": {
  "colab": {
   "name": "perguntaserespostas.ipynb",
   "provenance": []
  },
  "kernelspec": {
   "display_name": "venv",
   "language": "python",
   "name": "python3"
  },
  "language_info": {
   "codemirror_mode": {
    "name": "ipython",
    "version": 3
   },
   "file_extension": ".py",
   "mimetype": "text/x-python",
   "name": "python",
   "nbconvert_exporter": "python",
   "pygments_lexer": "ipython3",
   "version": "3.11.2"
  },
  "vscode": {
   "interpreter": {
    "hash": "22f8ccb470c4ac6deb13e13a22937b07f0e86e205ba8169191f9e3160af8ea3c"
   }
  }
 },
 "nbformat": 4,
 "nbformat_minor": 4
}
