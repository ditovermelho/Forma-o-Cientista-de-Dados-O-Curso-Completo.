{
 "cells": [
  {
   "cell_type": "markdown",
   "metadata": {},
   "source": [
    "# Formação Cientista de Dados - Fernando Amaral e Jones Granatyr\n",
    "# Deep Learning"
   ]
  },
  {
   "cell_type": "code",
   "execution_count": 1,
   "metadata": {},
   "outputs": [],
   "source": [
    "# Importação das bibliotecas\n",
    "import matplotlib.pyplot as plt\n",
    "from keras.models import Sequential\n",
    "from keras.layers import Dense, Dropout\n",
    "from keras import utils\n",
    "import numpy as np\n",
    "from sklearn.metrics import confusion_matrix\n",
    "from keras.datasets import mnist\n",
    "#pip install tensorflow (executar no Anaconda Prompt)"
   ]
  },
  {
   "cell_type": "code",
   "execution_count": 2,
   "metadata": {},
   "outputs": [
    {
     "name": "stdout",
     "output_type": "stream",
     "text": [
      "Downloading data from https://storage.googleapis.com/tensorflow/tf-keras-datasets/mnist.npz\n",
      "11490434/11490434 [==============================] - 2s 0us/step\n"
     ]
    },
    {
     "data": {
      "text/plain": [
       "Text(0.5, 1.0, '0')"
      ]
     },
     "execution_count": 2,
     "metadata": {},
     "output_type": "execute_result"
    },
    {
     "data": {
      "image/png": "[encoded data removed]",
      "text/plain": [
       "<Figure size 640x480 with 1 Axes>"
      ]
     },
     "metadata": {},
     "output_type": "display_data"
    }
   ],
   "source": [
    "# Obtenção dos dados e divisão automática entre treinamento e teste\n",
    "(X_treinamento, y_treinamento), (X_teste, y_teste) = mnist.load_data()\n",
    "# Visualização de imagens específicas\n",
    "plt.imshow(X_treinamento[21], cmap = 'gray')\n",
    "plt.title(y_treinamento[21])"
   ]
  },
  {
   "cell_type": "code",
   "execution_count": 3,
   "metadata": {},
   "outputs": [
    {
     "data": {
      "text/plain": [
       "array([  0,   0,   0,   0,   0,   0,   0,   0,   0,   0,   0,   0,   0,\n",
       "         0,   0,   0,   0,   0,   0,   0,   0,   0,   0,   0,   0,   0,\n",
       "         0,   0,   0,   0,   0,   0,   0,   0,   0,   0,   0,   0,   0,\n",
       "         0,   0,   0,   0,   0,   0,   0,   0,   0,   0,   0,   0,   0,\n",
       "         0,   0,   0,   0,   0,   0,   0,   0,   0,   0,   0,   0,   0,\n",
       "         0,   0,   0,   0,   0,   0,   0,   0,   0,   0,   0,   0,   0,\n",
       "         0,   0,   0,   0,   0,   0,   0,   0,   0,   0,   0,   0,   0,\n",
       "         0,   0,   0,   0,   0,   0,   0,   0,   0,   0,   0,   0,   0,\n",
       "         0,   0,   0,   0,   0,   0,   0,   0,   0,   0,   0,   0,   0,\n",
       "         0,   0,   0,   0,   0,   0,   0,   0,   0,   0,   0,   0,   0,\n",
       "         0,   0,   0,   0,   0,   0,   0,   0,   0,   0,   0,   0,   0,\n",
       "         0,   0,   0,   0,   0,   0,   0,   0,   0,   0,   0,   0,   0,\n",
       "         0,   0,   0,   0,   0,   0,   0,   0,   0,   0,   0,   0,   0,\n",
       "         0,   0,   0,   0,   0,   0,   0,   0,   0,   0,   0,   0,   0,\n",
       "         0,   0,   0,   0,   0,   0,   0,   0,   0,   0,   0,   0,   0,\n",
       "         0,   0,   0,   0,   0,   0,   0,  84, 185, 159, 151,  60,  36,\n",
       "         0,   0,   0,   0,   0,   0,   0,   0,   0,   0,   0,   0,   0,\n",
       "         0,   0,   0,   0,   0,   0,   0,   0,   0, 222, 254, 254, 254,\n",
       "       254, 241, 198, 198, 198, 198, 198, 198, 198, 198, 170,  52,   0,\n",
       "         0,   0,   0,   0,   0,   0,   0,   0,   0,   0,   0,  67, 114,\n",
       "        72, 114, 163, 227, 254, 225, 254, 254, 254, 250, 229, 254, 254,\n",
       "       140,   0,   0,   0,   0,   0,   0,   0,   0,   0,   0,   0,   0,\n",
       "         0,   0,   0,   0,   0,  17,  66,  14,  67,  67,  67,  59,  21,\n",
       "       236, 254, 106,   0,   0,   0,   0,   0,   0,   0,   0,   0,   0,\n",
       "         0,   0,   0,   0,   0,   0,   0,   0,   0,   0,   0,   0,   0,\n",
       "         0,  83, 253, 209,  18,   0,   0,   0,   0,   0,   0,   0,   0,\n",
       "         0,   0,   0,   0,   0,   0,   0,   0,   0,   0,   0,   0,   0,\n",
       "         0,   0,  22, 233, 255,  83,   0,   0,   0,   0,   0,   0,   0,\n",
       "         0,   0,   0,   0,   0,   0,   0,   0,   0,   0,   0,   0,   0,\n",
       "         0,   0,   0,   0, 129, 254, 238,  44,   0,   0,   0,   0,   0,\n",
       "         0,   0,   0,   0,   0,   0,   0,   0,   0,   0,   0,   0,   0,\n",
       "         0,   0,   0,   0,   0,  59, 249, 254,  62,   0,   0,   0,   0,\n",
       "         0,   0,   0,   0,   0,   0,   0,   0,   0,   0,   0,   0,   0,\n",
       "         0,   0,   0,   0,   0,   0,   0, 133, 254, 187,   5,   0,   0,\n",
       "         0,   0,   0,   0,   0,   0,   0,   0,   0,   0,   0,   0,   0,\n",
       "         0,   0,   0,   0,   0,   0,   0,   0,   9, 205, 248,  58,   0,\n",
       "         0,   0,   0,   0,   0,   0,   0,   0,   0,   0,   0,   0,   0,\n",
       "         0,   0,   0,   0,   0,   0,   0,   0,   0,   0, 126, 254, 182,\n",
       "         0,   0,   0,   0,   0,   0,   0,   0,   0,   0,   0,   0,   0,\n",
       "         0,   0,   0,   0,   0,   0,   0,   0,   0,   0,   0,  75, 251,\n",
       "       240,  57,   0,   0,   0,   0,   0,   0,   0,   0,   0,   0,   0,\n",
       "         0,   0,   0,   0,   0,   0,   0,   0,   0,   0,   0,   0,  19,\n",
       "       221, 254, 166,   0,   0,   0,   0,   0,   0,   0,   0,   0,   0,\n",
       "         0,   0,   0,   0,   0,   0,   0,   0,   0,   0,   0,   0,   0,\n",
       "         3, 203, 254, 219,  35,   0,   0,   0,   0,   0,   0,   0,   0,\n",
       "         0,   0,   0,   0,   0,   0,   0,   0,   0,   0,   0,   0,   0,\n",
       "         0,   0,  38, 254, 254,  77,   0,   0,   0,   0,   0,   0,   0,\n",
       "         0,   0,   0,   0,   0,   0,   0,   0,   0,   0,   0,   0,   0,\n",
       "         0,   0,   0,  31, 224, 254, 115,   1,   0,   0,   0,   0,   0,\n",
       "         0,   0,   0,   0,   0,   0,   0,   0,   0,   0,   0,   0,   0,\n",
       "         0,   0,   0,   0,   0, 133, 254, 254,  52,   0,   0,   0,   0,\n",
       "         0,   0,   0,   0,   0,   0,   0,   0,   0,   0,   0,   0,   0,\n",
       "         0,   0,   0,   0,   0,   0,  61, 242, 254, 254,  52,   0,   0,\n",
       "         0,   0,   0,   0,   0,   0,   0,   0,   0,   0,   0,   0,   0,\n",
       "         0,   0,   0,   0,   0,   0,   0,   0, 121, 254, 254, 219,  40,\n",
       "         0,   0,   0,   0,   0,   0,   0,   0,   0,   0,   0,   0,   0,\n",
       "         0,   0,   0,   0,   0,   0,   0,   0,   0,   0, 121, 254, 207,\n",
       "        18,   0,   0,   0,   0,   0,   0,   0,   0,   0,   0,   0,   0,\n",
       "         0,   0,   0,   0,   0,   0,   0,   0,   0,   0,   0,   0,   0,\n",
       "         0,   0,   0,   0,   0,   0,   0,   0,   0,   0,   0,   0,   0,\n",
       "         0,   0,   0,   0], dtype=uint8)"
      ]
     },
     "execution_count": 3,
     "metadata": {},
     "output_type": "execute_result"
    }
   ],
   "source": [
    "# Mudança de dimensão, originalmente está em 28x28 e precisamos 784\n",
    "X_treinamento = X_treinamento.reshape((len(X_treinamento), np.prod(X_treinamento.shape[1:])))\n",
    "X_teste = X_teste.reshape((len(X_teste), np.prod(X_teste.shape[1:])))\n",
    "X_teste[0]"
   ]
  },
  {
   "cell_type": "code",
   "execution_count": 4,
   "metadata": {},
   "outputs": [],
   "source": [
    "# Transformação dos dados para float para podermos normalizar os dados\n",
    "X_treinamento = X_treinamento.astype('float32')\n",
    "X_teste = X_teste.astype('float32')"
   ]
  },
  {
   "cell_type": "code",
   "execution_count": 5,
   "metadata": {},
   "outputs": [],
   "source": [
    "# Normalização (255 é o valor máximo de um pixel)\n",
    "X_treinamento /= 255\n",
    "X_teste /= 255"
   ]
  },
  {
   "cell_type": "code",
   "execution_count": 6,
   "metadata": {},
   "outputs": [
    {
     "data": {
      "text/plain": [
       "array([0., 0., 0., 0., 0., 0., 0., 1., 0., 0.], dtype=float32)"
      ]
     },
     "execution_count": 6,
     "metadata": {},
     "output_type": "execute_result"
    }
   ],
   "source": [
    "# Transformação para o formato dummy (temos 10 classes)\n",
    "y_treinamento = utils.to_categorical(y_treinamento, 10)\n",
    "y_teste = utils.to_categorical(y_teste, 10)\n",
    "y_teste[0]"
   ]
  },
  {
   "cell_type": "code",
   "execution_count": 7,
   "metadata": {},
   "outputs": [],
   "source": [
    "# Estrutura da rede neural: 784 - 64 - 64 - 64 - 10\n",
    "# Dropout é utilizado para zerar uma porcentagem dos neurônios, para evitar o overfitting\n",
    "modelo = Sequential()\n",
    "modelo.add(Dense(units = 64, activation = 'relu', input_dim = 784))\n",
    "modelo.add(Dropout(0.2))\n",
    "modelo.add(Dense(units = 64, activation = 'relu'))\n",
    "modelo.add(Dropout(0.2))\n",
    "modelo.add(Dense(units = 64, activation = 'relu'))\n",
    "modelo.add(Dropout(0.2))\n",
    "# Camada de saida, softmax probabilidade\n",
    "modelo.add(Dense(units = 10, activation = 'softmax'))"
   ]
  },
  {
   "cell_type": "code",
   "execution_count": 8,
   "metadata": {},
   "outputs": [
    {
     "name": "stdout",
     "output_type": "stream",
     "text": [
      "Model: \"sequential\"\n",
      "_________________________________________________________________\n",
      " Layer (type)                Output Shape              Param #   \n",
      "=================================================================\n",
      " dense (Dense)               (None, 64)                50240     \n",
      "                                                                 \n",
      " dropout (Dropout)           (None, 64)                0         \n",
      "                                                                 \n",
      " dense_1 (Dense)             (None, 64)                4160      \n",
      "                                                                 \n",
      " dropout_1 (Dropout)         (None, 64)                0         \n",
      "                                                                 \n",
      " dense_2 (Dense)             (None, 64)                4160      \n",
      "                                                                 \n",
      " dropout_2 (Dropout)         (None, 64)                0         \n",
      "                                                                 \n",
      " dense_3 (Dense)             (None, 10)                650       \n",
      "                                                                 \n",
      "=================================================================\n",
      "Total params: 59210 (231.29 KB)\n",
      "Trainable params: 59210 (231.29 KB)\n",
      "Non-trainable params: 0 (0.00 Byte)\n",
      "_________________________________________________________________\n"
     ]
    }
   ],
   "source": [
    "# Visualização da estrutura da rede neural\n",
    "modelo.summary()"
   ]
  },
  {
   "cell_type": "code",
   "execution_count": 11,
   "metadata": {},
   "outputs": [
    {
     "name": "stdout",
     "output_type": "stream",
     "text": [
      "Epoch 1/100\n",
      "1875/1875 [==============================] - 16s 7ms/step - loss: 0.0491 - accuracy: 0.9859 - val_loss: 0.1237 - val_accuracy: 0.9758\n",
      "Epoch 2/100\n",
      "1875/1875 [==============================] - 14s 7ms/step - loss: 0.0503 - accuracy: 0.9849 - val_loss: 0.1209 - val_accuracy: 0.9754\n",
      "Epoch 3/100\n",
      "1875/1875 [==============================] - 14s 8ms/step - loss: 0.0494 - accuracy: 0.9851 - val_loss: 0.1240 - val_accuracy: 0.9770\n",
      "Epoch 4/100\n",
      "1875/1875 [==============================] - 15s 8ms/step - loss: 0.0520 - accuracy: 0.9848 - val_loss: 0.1139 - val_accuracy: 0.9761\n",
      "Epoch 5/100\n",
      "1875/1875 [==============================] - 12s 6ms/step - loss: 0.0481 - accuracy: 0.9856 - val_loss: 0.1207 - val_accuracy: 0.9754\n",
      "Epoch 6/100\n",
      "1875/1875 [==============================] - 14s 8ms/step - loss: 0.0460 - accuracy: 0.9859 - val_loss: 0.1211 - val_accuracy: 0.9758\n",
      "Epoch 7/100\n",
      "1875/1875 [==============================] - 17s 9ms/step - loss: 0.0488 - accuracy: 0.9850 - val_loss: 0.1237 - val_accuracy: 0.9759\n",
      "Epoch 8/100\n",
      "1875/1875 [==============================] - 11s 6ms/step - loss: 0.0496 - accuracy: 0.9856 - val_loss: 0.1224 - val_accuracy: 0.9759\n",
      "Epoch 9/100\n",
      "1875/1875 [==============================] - 8s 5ms/step - loss: 0.0464 - accuracy: 0.9860 - val_loss: 0.1333 - val_accuracy: 0.9755\n",
      "Epoch 10/100\n",
      "1875/1875 [==============================] - 8s 4ms/step - loss: 0.0464 - accuracy: 0.9860 - val_loss: 0.1284 - val_accuracy: 0.9774\n",
      "Epoch 11/100\n",
      "1875/1875 [==============================] - 8s 4ms/step - loss: 0.0478 - accuracy: 0.9859 - val_loss: 0.1280 - val_accuracy: 0.9767\n",
      "Epoch 12/100\n",
      "1875/1875 [==============================] - 8s 4ms/step - loss: 0.0492 - accuracy: 0.9851 - val_loss: 0.1252 - val_accuracy: 0.9779\n",
      "Epoch 13/100\n",
      "1875/1875 [==============================] - 8s 4ms/step - loss: 0.0468 - accuracy: 0.9862 - val_loss: 0.1296 - val_accuracy: 0.9765\n",
      "Epoch 14/100\n",
      "1875/1875 [==============================] - 8s 4ms/step - loss: 0.0502 - accuracy: 0.9856 - val_loss: 0.1229 - val_accuracy: 0.9773\n",
      "Epoch 15/100\n",
      "1875/1875 [==============================] - 10s 5ms/step - loss: 0.0469 - accuracy: 0.9860 - val_loss: 0.1303 - val_accuracy: 0.9756\n",
      "Epoch 16/100\n",
      "1875/1875 [==============================] - 9s 5ms/step - loss: 0.0456 - accuracy: 0.9859 - val_loss: 0.1241 - val_accuracy: 0.9764\n",
      "Epoch 17/100\n",
      "1875/1875 [==============================] - 8s 4ms/step - loss: 0.0474 - accuracy: 0.9857 - val_loss: 0.1166 - val_accuracy: 0.9776\n",
      "Epoch 18/100\n",
      "1875/1875 [==============================] - 8s 4ms/step - loss: 0.0476 - accuracy: 0.9855 - val_loss: 0.1288 - val_accuracy: 0.9764\n",
      "Epoch 19/100\n",
      "1875/1875 [==============================] - 8s 4ms/step - loss: 0.0482 - accuracy: 0.9852 - val_loss: 0.1174 - val_accuracy: 0.9763\n",
      "Epoch 20/100\n",
      "1875/1875 [==============================] - 9s 5ms/step - loss: 0.0470 - accuracy: 0.9858 - val_loss: 0.1310 - val_accuracy: 0.9760\n",
      "Epoch 21/100\n",
      "1875/1875 [==============================] - 8s 4ms/step - loss: 0.0470 - accuracy: 0.9865 - val_loss: 0.1221 - val_accuracy: 0.9758\n",
      "Epoch 22/100\n",
      "1875/1875 [==============================] - 8s 4ms/step - loss: 0.0468 - accuracy: 0.9860 - val_loss: 0.1269 - val_accuracy: 0.9768\n",
      "Epoch 23/100\n",
      "1875/1875 [==============================] - 8s 5ms/step - loss: 0.0456 - accuracy: 0.9859 - val_loss: 0.1243 - val_accuracy: 0.9757\n",
      "Epoch 24/100\n",
      "1875/1875 [==============================] - 8s 4ms/step - loss: 0.0456 - accuracy: 0.9866 - val_loss: 0.1278 - val_accuracy: 0.9761\n",
      "Epoch 25/100\n",
      "1875/1875 [==============================] - 8s 4ms/step - loss: 0.0424 - accuracy: 0.9871 - val_loss: 0.1360 - val_accuracy: 0.9761\n",
      "Epoch 26/100\n",
      "1875/1875 [==============================] - 8s 4ms/step - loss: 0.0461 - accuracy: 0.9864 - val_loss: 0.1282 - val_accuracy: 0.9765\n",
      "Epoch 27/100\n",
      "1875/1875 [==============================] - 9s 5ms/step - loss: 0.0462 - accuracy: 0.9865 - val_loss: 0.1216 - val_accuracy: 0.9767\n",
      "Epoch 28/100\n",
      "1875/1875 [==============================] - 8s 4ms/step - loss: 0.0479 - accuracy: 0.9859 - val_loss: 0.1255 - val_accuracy: 0.9748\n",
      "Epoch 29/100\n",
      "1875/1875 [==============================] - 8s 4ms/step - loss: 0.0426 - accuracy: 0.9873 - val_loss: 0.1284 - val_accuracy: 0.9748\n",
      "Epoch 30/100\n",
      "1875/1875 [==============================] - 8s 4ms/step - loss: 0.0469 - accuracy: 0.9856 - val_loss: 0.1338 - val_accuracy: 0.9757\n",
      "Epoch 31/100\n",
      "1875/1875 [==============================] - 8s 4ms/step - loss: 0.0440 - accuracy: 0.9870 - val_loss: 0.1305 - val_accuracy: 0.9775\n",
      "Epoch 32/100\n",
      "1875/1875 [==============================] - 8s 4ms/step - loss: 0.0457 - accuracy: 0.9865 - val_loss: 0.1370 - val_accuracy: 0.9761\n",
      "Epoch 33/100\n",
      "1875/1875 [==============================] - 8s 4ms/step - loss: 0.0447 - accuracy: 0.9871 - val_loss: 0.1240 - val_accuracy: 0.9765\n",
      "Epoch 34/100\n",
      "1875/1875 [==============================] - 8s 4ms/step - loss: 0.0443 - accuracy: 0.9869 - val_loss: 0.1376 - val_accuracy: 0.9761\n",
      "Epoch 35/100\n",
      "1875/1875 [==============================] - 8s 4ms/step - loss: 0.0456 - accuracy: 0.9868 - val_loss: 0.1375 - val_accuracy: 0.9763\n",
      "Epoch 36/100\n",
      "1875/1875 [==============================] - 9s 5ms/step - loss: 0.0426 - accuracy: 0.9877 - val_loss: 0.1406 - val_accuracy: 0.9754\n",
      "Epoch 37/100\n",
      "1875/1875 [==============================] - 10s 5ms/step - loss: 0.0480 - accuracy: 0.9863 - val_loss: 0.1309 - val_accuracy: 0.9778\n",
      "Epoch 38/100\n",
      "1875/1875 [==============================] - 8s 4ms/step - loss: 0.0445 - accuracy: 0.9877 - val_loss: 0.1420 - val_accuracy: 0.9760\n",
      "Epoch 39/100\n",
      "1875/1875 [==============================] - 8s 5ms/step - loss: 0.0430 - accuracy: 0.9875 - val_loss: 0.1411 - val_accuracy: 0.9761\n",
      "Epoch 40/100\n",
      "1875/1875 [==============================] - 8s 4ms/step - loss: 0.0469 - accuracy: 0.9858 - val_loss: 0.1252 - val_accuracy: 0.9765\n",
      "Epoch 41/100\n",
      "1875/1875 [==============================] - 11s 6ms/step - loss: 0.0412 - accuracy: 0.9880 - val_loss: 0.1350 - val_accuracy: 0.9768\n",
      "Epoch 42/100\n",
      "1875/1875 [==============================] - 8s 4ms/step - loss: 0.0458 - accuracy: 0.9870 - val_loss: 0.1302 - val_accuracy: 0.9767\n",
      "Epoch 43/100\n",
      "1875/1875 [==============================] - 11s 6ms/step - loss: 0.0423 - accuracy: 0.9881 - val_loss: 0.1262 - val_accuracy: 0.9785\n",
      "Epoch 44/100\n",
      "1875/1875 [==============================] - 12s 6ms/step - loss: 0.0431 - accuracy: 0.9876 - val_loss: 0.1309 - val_accuracy: 0.9760\n",
      "Epoch 45/100\n",
      "1875/1875 [==============================] - 14s 8ms/step - loss: 0.0426 - accuracy: 0.9878 - val_loss: 0.1336 - val_accuracy: 0.9764\n",
      "Epoch 46/100\n",
      "1875/1875 [==============================] - 14s 8ms/step - loss: 0.0438 - accuracy: 0.9875 - val_loss: 0.1326 - val_accuracy: 0.9771\n",
      "Epoch 47/100\n",
      "1875/1875 [==============================] - 12s 6ms/step - loss: 0.0418 - accuracy: 0.9879 - val_loss: 0.1286 - val_accuracy: 0.9762\n",
      "Epoch 48/100\n",
      "1875/1875 [==============================] - 12s 6ms/step - loss: 0.0461 - accuracy: 0.9865 - val_loss: 0.1244 - val_accuracy: 0.9757\n",
      "Epoch 49/100\n",
      "1875/1875 [==============================] - 14s 8ms/step - loss: 0.0433 - accuracy: 0.9870 - val_loss: 0.1269 - val_accuracy: 0.9763\n",
      "Epoch 50/100\n",
      "1875/1875 [==============================] - 16s 8ms/step - loss: 0.0428 - accuracy: 0.9869 - val_loss: 0.1282 - val_accuracy: 0.9764\n",
      "Epoch 51/100\n",
      "1875/1875 [==============================] - 14s 8ms/step - loss: 0.0442 - accuracy: 0.9867 - val_loss: 0.1317 - val_accuracy: 0.9753\n",
      "Epoch 52/100\n",
      "1875/1875 [==============================] - 8s 4ms/step - loss: 0.0419 - accuracy: 0.9877 - val_loss: 0.1267 - val_accuracy: 0.9750\n",
      "Epoch 53/100\n",
      "1875/1875 [==============================] - 8s 4ms/step - loss: 0.0453 - accuracy: 0.9870 - val_loss: 0.1376 - val_accuracy: 0.9766\n",
      "Epoch 54/100\n",
      "1875/1875 [==============================] - 9s 5ms/step - loss: 0.0425 - accuracy: 0.9873 - val_loss: 0.1306 - val_accuracy: 0.9762\n",
      "Epoch 55/100\n",
      "1875/1875 [==============================] - 15s 8ms/step - loss: 0.0427 - accuracy: 0.9870 - val_loss: 0.1308 - val_accuracy: 0.9761\n",
      "Epoch 56/100\n",
      "1875/1875 [==============================] - 10s 6ms/step - loss: 0.0417 - accuracy: 0.9880 - val_loss: 0.1440 - val_accuracy: 0.9753\n",
      "Epoch 57/100\n",
      "1875/1875 [==============================] - 12s 6ms/step - loss: 0.0435 - accuracy: 0.9874 - val_loss: 0.1285 - val_accuracy: 0.9758\n",
      "Epoch 58/100\n",
      "1875/1875 [==============================] - 14s 7ms/step - loss: 0.0434 - accuracy: 0.9870 - val_loss: 0.1277 - val_accuracy: 0.9758\n",
      "Epoch 59/100\n",
      "1875/1875 [==============================] - 14s 7ms/step - loss: 0.0413 - accuracy: 0.9876 - val_loss: 0.1370 - val_accuracy: 0.9760\n",
      "Epoch 60/100\n",
      "1875/1875 [==============================] - 17s 9ms/step - loss: 0.0421 - accuracy: 0.9877 - val_loss: 0.1400 - val_accuracy: 0.9748\n",
      "Epoch 61/100\n",
      "1875/1875 [==============================] - 13s 7ms/step - loss: 0.0410 - accuracy: 0.9880 - val_loss: 0.1307 - val_accuracy: 0.9768\n",
      "Epoch 62/100\n",
      "1875/1875 [==============================] - 15s 8ms/step - loss: 0.0413 - accuracy: 0.9880 - val_loss: 0.1452 - val_accuracy: 0.9756\n",
      "Epoch 63/100\n",
      "1875/1875 [==============================] - 12s 6ms/step - loss: 0.0400 - accuracy: 0.9883 - val_loss: 0.1406 - val_accuracy: 0.9763\n",
      "Epoch 64/100\n",
      "1875/1875 [==============================] - 12s 7ms/step - loss: 0.0435 - accuracy: 0.9874 - val_loss: 0.1478 - val_accuracy: 0.9763\n",
      "Epoch 65/100\n",
      "1875/1875 [==============================] - 18s 9ms/step - loss: 0.0441 - accuracy: 0.9870 - val_loss: 0.1350 - val_accuracy: 0.9758\n",
      "Epoch 66/100\n",
      "1875/1875 [==============================] - 13s 7ms/step - loss: 0.0427 - accuracy: 0.9878 - val_loss: 0.1430 - val_accuracy: 0.9759\n",
      "Epoch 67/100\n",
      "1875/1875 [==============================] - 13s 7ms/step - loss: 0.0418 - accuracy: 0.9877 - val_loss: 0.1369 - val_accuracy: 0.9757\n",
      "Epoch 68/100\n",
      "1875/1875 [==============================] - 14s 7ms/step - loss: 0.0389 - accuracy: 0.9881 - val_loss: 0.1397 - val_accuracy: 0.9769\n",
      "Epoch 69/100\n",
      "1875/1875 [==============================] - 14s 8ms/step - loss: 0.0454 - accuracy: 0.9869 - val_loss: 0.1441 - val_accuracy: 0.9759\n",
      "Epoch 70/100\n",
      "1875/1875 [==============================] - 22s 12ms/step - loss: 0.0419 - accuracy: 0.9873 - val_loss: 0.1351 - val_accuracy: 0.9753\n",
      "Epoch 71/100\n",
      "1875/1875 [==============================] - 22s 11ms/step - loss: 0.0432 - accuracy: 0.9875 - val_loss: 0.1349 - val_accuracy: 0.9761\n",
      "Epoch 72/100\n",
      "1875/1875 [==============================] - 22s 12ms/step - loss: 0.0414 - accuracy: 0.9877 - val_loss: 0.1508 - val_accuracy: 0.9758\n",
      "Epoch 73/100\n",
      "1875/1875 [==============================] - 14s 8ms/step - loss: 0.0408 - accuracy: 0.9884 - val_loss: 0.1447 - val_accuracy: 0.9758\n",
      "Epoch 74/100\n",
      "1875/1875 [==============================] - 13s 7ms/step - loss: 0.0420 - accuracy: 0.9881 - val_loss: 0.1414 - val_accuracy: 0.9759\n",
      "Epoch 75/100\n",
      "1875/1875 [==============================] - 18s 10ms/step - loss: 0.0405 - accuracy: 0.9881 - val_loss: 0.1405 - val_accuracy: 0.9758\n",
      "Epoch 76/100\n",
      "1875/1875 [==============================] - 12s 6ms/step - loss: 0.0424 - accuracy: 0.9876 - val_loss: 0.1473 - val_accuracy: 0.9751\n",
      "Epoch 77/100\n",
      "1875/1875 [==============================] - 13s 7ms/step - loss: 0.0398 - accuracy: 0.9883 - val_loss: 0.1612 - val_accuracy: 0.9733\n",
      "Epoch 78/100\n",
      "1875/1875 [==============================] - 15s 8ms/step - loss: 0.0410 - accuracy: 0.9881 - val_loss: 0.1442 - val_accuracy: 0.9769\n",
      "Epoch 79/100\n",
      "1875/1875 [==============================] - 20s 11ms/step - loss: 0.0395 - accuracy: 0.9883 - val_loss: 0.1498 - val_accuracy: 0.9758\n",
      "Epoch 80/100\n",
      "1875/1875 [==============================] - 24s 13ms/step - loss: 0.0392 - accuracy: 0.9882 - val_loss: 0.1357 - val_accuracy: 0.9764\n",
      "Epoch 81/100\n",
      "1875/1875 [==============================] - 20s 11ms/step - loss: 0.0422 - accuracy: 0.9877 - val_loss: 0.1482 - val_accuracy: 0.9761\n",
      "Epoch 82/100\n",
      "1875/1875 [==============================] - 21s 11ms/step - loss: 0.0399 - accuracy: 0.9883 - val_loss: 0.1489 - val_accuracy: 0.9760\n",
      "Epoch 83/100\n",
      "1875/1875 [==============================] - 29s 16ms/step - loss: 0.0402 - accuracy: 0.9882 - val_loss: 0.1517 - val_accuracy: 0.9759\n",
      "Epoch 84/100\n",
      "1875/1875 [==============================] - 20s 10ms/step - loss: 0.0379 - accuracy: 0.9887 - val_loss: 0.1536 - val_accuracy: 0.9765\n",
      "Epoch 85/100\n",
      "1875/1875 [==============================] - 23s 12ms/step - loss: 0.0390 - accuracy: 0.9886 - val_loss: 0.1571 - val_accuracy: 0.9758\n",
      "Epoch 86/100\n",
      "1875/1875 [==============================] - 13s 7ms/step - loss: 0.0383 - accuracy: 0.9888 - val_loss: 0.1489 - val_accuracy: 0.9756\n",
      "Epoch 87/100\n",
      "1875/1875 [==============================] - 10s 5ms/step - loss: 0.0426 - accuracy: 0.9873 - val_loss: 0.1502 - val_accuracy: 0.9753\n",
      "Epoch 88/100\n",
      "1875/1875 [==============================] - 11s 6ms/step - loss: 0.0388 - accuracy: 0.9887 - val_loss: 0.1490 - val_accuracy: 0.9768\n",
      "Epoch 89/100\n",
      "1875/1875 [==============================] - 15s 8ms/step - loss: 0.0381 - accuracy: 0.9887 - val_loss: 0.1383 - val_accuracy: 0.9758\n",
      "Epoch 90/100\n",
      "1875/1875 [==============================] - 13s 7ms/step - loss: 0.0400 - accuracy: 0.9880 - val_loss: 0.1419 - val_accuracy: 0.9771\n",
      "Epoch 91/100\n",
      "1875/1875 [==============================] - 12s 7ms/step - loss: 0.0395 - accuracy: 0.9885 - val_loss: 0.1448 - val_accuracy: 0.9769\n",
      "Epoch 92/100\n",
      "1875/1875 [==============================] - 13s 7ms/step - loss: 0.0393 - accuracy: 0.9889 - val_loss: 0.1389 - val_accuracy: 0.9783\n",
      "Epoch 93/100\n",
      "1875/1875 [==============================] - 14s 7ms/step - loss: 0.0421 - accuracy: 0.9876 - val_loss: 0.1480 - val_accuracy: 0.9759\n",
      "Epoch 94/100\n",
      "1875/1875 [==============================] - 12s 6ms/step - loss: 0.0419 - accuracy: 0.9877 - val_loss: 0.1539 - val_accuracy: 0.9759\n",
      "Epoch 95/100\n",
      "1875/1875 [==============================] - 12s 6ms/step - loss: 0.0382 - accuracy: 0.9887 - val_loss: 0.1534 - val_accuracy: 0.9766\n",
      "Epoch 96/100\n",
      "1875/1875 [==============================] - 12s 6ms/step - loss: 0.0379 - accuracy: 0.9890 - val_loss: 0.1548 - val_accuracy: 0.9761\n",
      "Epoch 97/100\n",
      "1875/1875 [==============================] - 19s 10ms/step - loss: 0.0389 - accuracy: 0.9883 - val_loss: 0.1448 - val_accuracy: 0.9759\n",
      "Epoch 98/100\n",
      "1875/1875 [==============================] - 21s 11ms/step - loss: 0.0428 - accuracy: 0.9876 - val_loss: 0.1386 - val_accuracy: 0.9766\n",
      "Epoch 99/100\n",
      "1875/1875 [==============================] - 23s 12ms/step - loss: 0.0401 - accuracy: 0.9889 - val_loss: 0.1418 - val_accuracy: 0.9757\n",
      "Epoch 100/100\n",
      "1875/1875 [==============================] - 21s 11ms/step - loss: 0.0384 - accuracy: 0.9887 - val_loss: 0.1446 - val_accuracy: 0.9784\n"
     ]
    }
   ],
   "source": [
    "# Configuração dos parâmetros da rede neural e treinamento (utilizando base de dados de validação)\n",
    "# Na variável historico temos os histórico das execuções (erro e accuracy)\n",
    "modelo.compile(optimizer = 'adam', loss = 'categorical_crossentropy',\n",
    "               metrics = ['accuracy'])\n",
    "historico = modelo.fit(X_treinamento, y_treinamento, epochs = 100,\n",
    "                       validation_data = (X_teste, y_teste))"
   ]
  },
  {
   "cell_type": "code",
   "execution_count": 12,
   "metadata": {},
   "outputs": [
    {
     "data": {
      "text/plain": [
       "[<matplotlib.lines.Line2D at 0x466fa050>]"
      ]
     },
     "execution_count": 12,
     "metadata": {},
     "output_type": "execute_result"
    },
    {
     "data": {
      "image/png": "[encoded data removed]",
      "text/plain": [
       "<Figure size 640x480 with 1 Axes>"
      ]
     },
     "metadata": {},
     "output_type": "display_data"
    }
   ],
   "source": [
    "# Gráfico para visualizar os erros e accuracy\n",
    "historico.history.keys()\n",
    "#evolução do erro, azul\n",
    "plt.plot(historico.history['val_loss'])\n",
    "#performance da rede\n",
    "plt.plot(historico.history['val_accuracy'])"
   ]
  },
  {
   "cell_type": "code",
   "execution_count": 13,
   "metadata": {},
   "outputs": [
    {
     "name": "stdout",
     "output_type": "stream",
     "text": [
      "313/313 [==============================] - 2s 5ms/step\n"
     ]
    },
    {
     "data": {
      "text/plain": [
       "array([[2.90974057e-26, 1.05650009e-16, 4.89246881e-13, ...,\n",
       "        1.00000000e+00, 1.07235681e-22, 1.18905821e-13],\n",
       "       [2.95136348e-16, 1.97431476e-08, 1.00000000e+00, ...,\n",
       "        1.72409483e-12, 1.02709835e-14, 2.11777921e-19],\n",
       "       [8.67981670e-28, 1.00000000e+00, 8.93231344e-13, ...,\n",
       "        1.91060411e-14, 6.12181084e-10, 1.80617554e-18],\n",
       "       ...,\n",
       "       [1.13141842e-19, 2.02046907e-10, 9.19953613e-10, ...,\n",
       "        8.15531365e-10, 3.80726565e-13, 2.83070865e-08],\n",
       "       [0.00000000e+00, 1.48993082e-33, 2.12859442e-24, ...,\n",
       "        6.36342253e-31, 3.70030395e-29, 2.68320151e-23],\n",
       "       [9.75370426e-26, 5.93148713e-27, 6.58613239e-18, ...,\n",
       "        1.39823948e-35, 4.44304487e-24, 2.69091241e-36]], dtype=float32)"
      ]
     },
     "execution_count": 13,
     "metadata": {},
     "output_type": "execute_result"
    }
   ],
   "source": [
    "# Obtenção das previsões \n",
    "previsoes = modelo.predict(X_teste)\n",
    "previsoes"
   ]
  },
  {
   "cell_type": "code",
   "execution_count": 14,
   "metadata": {},
   "outputs": [
    {
     "data": {
      "text/plain": [
       "array([[ 970,    1,    1,    1,    0,    0,    3,    1,    2,    1],\n",
       "       [   0, 1127,    0,    0,    0,    1,    2,    0,    5,    0],\n",
       "       [   1,    1, 1016,    2,    2,    0,    0,    6,    3,    1],\n",
       "       [   0,    0,    3,  985,    0,   13,    0,    5,    2,    2],\n",
       "       [   1,    1,    1,    0,  958,    0,    7,    3,    1,   10],\n",
       "       [   3,    2,    0,    6,    0,  875,    2,    1,    2,    1],\n",
       "       [   5,    3,    1,    0,    4,    5,  938,    0,    2,    0],\n",
       "       [   2,    2,   13,    2,    1,    1,    0, 1002,    1,    4],\n",
       "       [   7,    2,    6,    4,    3,    5,    2,    3,  937,    5],\n",
       "       [   3,    4,    0,    5,    6,    8,    0,    5,    2,  976]],\n",
       "      dtype=int64)"
      ]
     },
     "execution_count": 14,
     "metadata": {},
     "output_type": "execute_result"
    }
   ],
   "source": [
    "# Valor máximo (com a probabilidade maior por serem 10 saídas) e geração da matriz de confusão\n",
    "y_teste_matriz = [np.argmax(t) for t in y_teste]\n",
    "y_previsoes_matriz = [np.argmax(t) for t in previsoes]\n",
    "confusao = confusion_matrix(y_teste_matriz, y_previsoes_matriz)\n",
    "confusao"
   ]
  },
  {
   "cell_type": "code",
   "execution_count": 15,
   "metadata": {},
   "outputs": [
    {
     "data": {
      "text/plain": [
       "array([0., 0., 0., 0., 1., 0., 0., 0., 0., 0.], dtype=float32)"
      ]
     },
     "execution_count": 15,
     "metadata": {},
     "output_type": "execute_result"
    }
   ],
   "source": [
    "# Previsão com um novo registro, convertendo o array para o formato de matriz\n",
    "# número 4\n",
    "y_treinamento[20]"
   ]
  },
  {
   "cell_type": "code",
   "execution_count": 16,
   "metadata": {},
   "outputs": [
    {
     "name": "stdout",
     "output_type": "stream",
     "text": [
      "1/1 [==============================] - 0s 52ms/step\n"
     ]
    },
    {
     "data": {
      "text/plain": [
       "[4]"
      ]
     },
     "execution_count": 16,
     "metadata": {},
     "output_type": "execute_result"
    }
   ],
   "source": [
    "# Passo a mesma posição para o modelo prever\n",
    "novo = X_treinamento[20]\n",
    "# de matriz para vetor\n",
    "novo = np.expand_dims(novo, axis = 0)\n",
    "# Previsao\n",
    "pred = modelo.predict(novo)\n",
    "# Maior valor\n",
    "pred = [np.argmax(pred) for t in pred]\n",
    "pred"
   ]
  }
 ],
 "metadata": {
  "jupytext": {
   "cell_metadata_filter": "-all",
   "main_language": "python",
   "notebook_metadata_filter": "-all"
  },
  "kernelspec": {
   "display_name": "venv",
   "language": "python",
   "name": "python3"
  },
  "language_info": {
   "codemirror_mode": {
    "name": "ipython",
    "version": 3
   },
   "file_extension": ".py",
   "mimetype": "text/x-python",
   "name": "python",
   "nbconvert_exporter": "python",
   "pygments_lexer": "ipython3",
   "version": "3.11.2"
  },
  "vscode": {
   "interpreter": {
    "hash": "22f8ccb470c4ac6deb13e13a22937b07f0e86e205ba8169191f9e3160af8ea3c"
   }
  }
 },
 "nbformat": 4,
 "nbformat_minor": 4
}
