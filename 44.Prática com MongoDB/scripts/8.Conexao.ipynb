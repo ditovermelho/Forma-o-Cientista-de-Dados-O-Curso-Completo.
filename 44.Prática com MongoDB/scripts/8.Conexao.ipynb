{
 "cells": [
  {
   "cell_type": "markdown",
   "metadata": {},
   "source": [
    "# Formação Cientista de Dados\n",
    "# Conexão Mongodb"
   ]
  },
  {
   "cell_type": "code",
   "execution_count": 1,
   "metadata": {
    "vscode": {
     "languageId": "powershell"
    }
   },
   "outputs": [
    {
     "name": "stdout",
     "output_type": "stream",
     "text": [
      "Collecting pymongo\n",
      "  Downloading pymongo-4.4.1-cp311-cp311-win_amd64.whl (408 kB)\n",
      "                                              0.0/408.2 kB ? eta -:--:--\n",
      "     --------                                92.2/408.2 kB 2.6 MB/s eta 0:00:01\n",
      "     --------------------------             286.7/408.2 kB 3.5 MB/s eta 0:00:01\n",
      "     -------------------------------------- 408.2/408.2 kB 3.2 MB/s eta 0:00:00\n",
      "Collecting dnspython<3.0.0,>=1.16.0 (from pymongo)\n",
      "  Downloading dnspython-2.4.0-py3-none-any.whl (300 kB)\n",
      "                                              0.0/300.0 kB ? eta -:--:--\n",
      "     -------------------------------------  297.0/300.0 kB 9.0 MB/s eta 0:00:01\n",
      "     -------------------------------------- 300.0/300.0 kB 6.2 MB/s eta 0:00:00\n",
      "Collecting httpcore>=0.17.3 (from dnspython<3.0.0,>=1.16.0->pymongo)\n",
      "  Downloading httpcore-0.17.3-py3-none-any.whl (74 kB)\n",
      "                                              0.0/74.5 kB ? eta -:--:--\n",
      "     ---------------------------------------- 74.5/74.5 kB 4.3 MB/s eta 0:00:00\n",
      "Collecting sniffio<2.0,>=1.1 (from dnspython<3.0.0,>=1.16.0->pymongo)\n",
      "  Downloading sniffio-1.3.0-py3-none-any.whl (10 kB)\n",
      "Collecting h11<0.15,>=0.13 (from httpcore>=0.17.3->dnspython<3.0.0,>=1.16.0->pymongo)\n",
      "  Downloading h11-0.14.0-py3-none-any.whl (58 kB)\n",
      "                                              0.0/58.3 kB ? eta -:--:--\n",
      "     ---------------------------------------- 58.3/58.3 kB 3.0 MB/s eta 0:00:00\n",
      "Collecting anyio<5.0,>=3.0 (from httpcore>=0.17.3->dnspython<3.0.0,>=1.16.0->pymongo)\n",
      "  Downloading anyio-3.7.1-py3-none-any.whl (80 kB)\n",
      "                                              0.0/80.9 kB ? eta -:--:--\n",
      "     ---------------------------------------- 80.9/80.9 kB 4.4 MB/s eta 0:00:00\n",
      "Requirement already satisfied: certifi in d:\\carlos daniel\\documents\\formação cientista de dados o curso completo\\python\\venv\\lib\\site-packages (from httpcore>=0.17.3->dnspython<3.0.0,>=1.16.0->pymongo) (2023.5.7)\n",
      "Requirement already satisfied: idna>=2.8 in d:\\carlos daniel\\documents\\formação cientista de dados o curso completo\\python\\venv\\lib\\site-packages (from anyio<5.0,>=3.0->httpcore>=0.17.3->dnspython<3.0.0,>=1.16.0->pymongo) (3.4)\n",
      "Installing collected packages: sniffio, h11, anyio, httpcore, dnspython, pymongo\n",
      "Successfully installed anyio-3.7.1 dnspython-2.4.0 h11-0.14.0 httpcore-0.17.3 pymongo-4.4.1 sniffio-1.3.0\n",
      "Note: you may need to restart the kernel to use updated packages.\n"
     ]
    }
   ],
   "source": [
    "pip install pymongo"
   ]
  },
  {
   "cell_type": "code",
   "execution_count": 1,
   "metadata": {},
   "outputs": [],
   "source": [
    "# pip install pymongo\n",
    "from pymongo import MongoClient"
   ]
  },
  {
   "cell_type": "code",
   "execution_count": 2,
   "metadata": {},
   "outputs": [],
   "source": [
    "#conexão local padrão\n",
    "cliente = MongoClient('mongodb://localhost:27017/')\n",
    "#banco dbmidias\n",
    "db = cliente.dbmidias\n",
    "#coleção posts\n",
    "conexao = db.posts"
   ]
  },
  {
   "cell_type": "code",
   "execution_count": 3,
   "metadata": {},
   "outputs": [
    {
     "name": "stdout",
     "output_type": "stream",
     "text": [
      "{'_id': ObjectId('5e2c4073ccf81fd8a9d7c443'), 'nome': 'José', 'postagem': 'Bons Produtos!', 'data': '31-06-2019'}\n"
     ]
    }
   ],
   "source": [
    "#um documento\n",
    "print(conexao.find_one())"
   ]
  },
  {
   "cell_type": "code",
   "execution_count": 4,
   "metadata": {},
   "outputs": [
    {
     "name": "stdout",
     "output_type": "stream",
     "text": [
      "{'_id': ObjectId('5e2c4109ccf81fd8a9d7c445'), 'nome': 'Maria Silva', 'postagem': 'Encontrei tudo que procurava', 'data': '14-06-2019'}\n"
     ]
    }
   ],
   "source": [
    "print(conexao.find_one({\"nome\":\"Maria Silva\"}))"
   ]
  },
  {
   "cell_type": "code",
   "execution_count": 5,
   "metadata": {},
   "outputs": [
    {
     "name": "stdout",
     "output_type": "stream",
     "text": [
      "{'_id': ObjectId('5e2c4073ccf81fd8a9d7c443'), 'nome': 'José', 'postagem': 'Bons Produtos!', 'data': '31-06-2019'}\n",
      "{'_id': ObjectId('5e2c4109ccf81fd8a9d7c444'), 'nome': 'Antonio', 'postagem': 'Minha bike quebrou', 'data': '26-05-2019'}\n",
      "{'_id': ObjectId('5e2c4109ccf81fd8a9d7c445'), 'nome': 'Maria Silva', 'postagem': 'Encontrei tudo que procurava', 'data': '14-06-2019'}\n",
      "{'_id': ObjectId('5e2c4109ccf81fd8a9d7c446'), 'nome': 'Lucas Andrade', 'postagem': 'Ótimo atendimento!', 'data': '12-04-2019'}\n",
      "{'_id': ObjectId('5e2c427dccf81fd8a9d7c447'), 'nome': 'José', 'postagem': 'Loja suja!', 'data': '30-01-2019'}\n",
      "{'_id': ObjectId('5e2c4315ccf81fd8a9d7c449'), 'nome': 'Ricardo', 'postagem': 'Produtos caros', 'data': '14-07-2019', 'idade': 12.0}\n"
     ]
    }
   ],
   "source": [
    "#todos\n",
    "for conexao in conexao.find():\n",
    "    print(conexao)"
   ]
  },
  {
   "cell_type": "code",
   "execution_count": 6,
   "metadata": {},
   "outputs": [],
   "source": [
    "cliente.close()"
   ]
  }
 ],
 "metadata": {
  "kernelspec": {
   "display_name": "venv",
   "language": "python",
   "name": "python3"
  },
  "language_info": {
   "codemirror_mode": {
    "name": "ipython",
    "version": 3
   },
   "file_extension": ".py",
   "mimetype": "text/x-python",
   "name": "python",
   "nbconvert_exporter": "python",
   "pygments_lexer": "ipython3",
   "version": "3.11.2"
  },
  "vscode": {
   "interpreter": {
    "hash": "22f8ccb470c4ac6deb13e13a22937b07f0e86e205ba8169191f9e3160af8ea3c"
   }
  }
 },
 "nbformat": 4,
 "nbformat_minor": 4
}
